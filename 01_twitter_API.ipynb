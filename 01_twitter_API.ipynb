{
 "cells": [
  {
   "cell_type": "code",
   "metadata": {
    "cell_id": "00000-427d5442-a19b-4354-b5d9-62327dba670b",
    "deepnote_to_be_reexecuted": false,
    "source_hash": "f6835470",
    "execution_start": 1638324365977,
    "execution_millis": 0,
    "deepnote_cell_type": "code"
   },
   "source": "import requests\nimport json\nimport pandas as pd\nimport requests\nimport pprint\nimport pickle\nimport os \n# https://developer.twitter.com/en/docs/twitter-api/tweets/search/api-reference/get-tweets-search-recent",
   "execution_count": 2,
   "outputs": []
  },
  {
   "cell_type": "code",
   "metadata": {
    "cell_id": "00001-3c0db1a8-0847-4351-bee2-540d2096fa03",
    "deepnote_output_heights": [
     21,
     21,
     21,
     null,
     607
    ],
    "deepnote_to_be_reexecuted": false,
    "source_hash": "f0ff27c1",
    "execution_start": 1638324365994,
    "execution_millis": 1148,
    "deepnote_cell_type": "code"
   },
   "source": "def headers(token):\n    \"\"\"\n    Headers necesarios para autenticarse en la API de Twitter.\n    \"\"\"\n    bearer_token = token\n    headers = {\"Authorization\": \"Bearer {}\".format(bearer_token)}\n    return headers\n\n\ndef tweets_covid(query, headers, max_results = 10):\n    \"\"\"\n    Se hace la petición.\n    \n    max_results solo puede ser un número entre 10 y 100. Por default la resuesta son 10 tweets.\n    \"\"\"\n    #endpoint_URL = \"https://api.twitter.com/2/tweets/search/recent?query={}&max_results={}&expansions=geo.place_id&place.fields=contained_within,country,country_code,full_name,geo,id,name,place_type&tweet.fields=geo\".format(query, max_results)\n    #endpoint_URL = \"https://api.twitter.com/2/tweets/search/recent?query={}&max_results={}&expansions=geo.place_id&place.fields=contained_within,country,country_code,full_name,geo,id,name,place_type&tweet.fields=geo,geo.coordinates,referenced_tweets,source\".format(query, max_results)\n    #endpoint_URL = \"https://api.twitter.com/2/tweets/search/recent?query={}&max_results={}&expansions=geo.place_id&tweet.fields=geo&place.fields=contained_within,country,country_code,full_name,geo,id,name,place_type\".format(query, max_results)\n    endpoint_URL = \"https://api.twitter.com/2/tweets/search/recent?query={}&max_results={}&user.fields=location&expansions=geo.place_id,author_id&tweet.fields=geo,created_at,public_metrics&place.fields=contained_within,country,country_code,full_name,geo,id,name,place_type\".format(query, max_results)\n    response = requests.request(\"GET\", endpoint_URL, headers = headers).json()\n    return response\n\n\ndef create_dataframe(response):\n    \"\"\"\n    Crear DataFrame\n    \"\"\"\n    df = pd.DataFrame(response[\"data\"])\n    data_loc = response[\"includes\"]\n    df2 = pd.DataFrame(data_loc[\"users\"])\n    #fichero_binario = open(\"locations\", \"wb\")\n    #pickle.dump(pickle_chido, fichero_binario)\n    #fichero_binario.close()\n    return (df, df2)\n    \n\ndef main():\n    query = \"covid\"\n    #token = \"AAAAAAAAAAAAAAAAAAAAADO8PQEAAAAA55OlrttdRo30obn2t5qp4SMJQUY%3D4fLbfXQQ08e8dNVRs8xlRcmwnDXwaKl7zQvQ5ZcEyijjV3d4RI\"\n    token = os.environ[\"TOKEN_TT\"].replace('\"','')\n    max_tweets = 100\n    \n    # Headers\n    encabezados = headers(token)\n    \n    # Tweets\n    tweets = tweets_covid(query, encabezados, max_tweets)\n    #pprint.pprint(tweets)\n    \n    # Crear DataFame\n    dfs = create_dataframe(tweets)\n    df_covid_new = dfs[0]\n    df_locations_new = dfs[1]\n    # Save data\n    #df_covid_new.to_csv(\"covid.csv\")\n    #df_locations_new.to_csv(\"tweets_locations.csv\")\n\n    #### Update covid csv ####\n    ##### old #####\n    df_covid_old = pd.read_csv(\"covid.csv\")\n    if \"Unnamed: 0\" in df_covid_old.columns.tolist():\n        df_covid_old.drop([\"Unnamed: 0\"], axis = 1, inplace = True)\n    elif \"geo\" in df_covid_old.columns.tolist():\n        df_covid_old.drop([\"geo\"], axis = 1, inplace = True)\n    # Reordering old data columns\n    df_covid_old = df_covid_old[[\"author_id\", \"created_at\", \"public_metrics\", \"text\", \"id\"]]\n    \n    if \"geo\" in df_covid_new.columns.tolist():\n        df_covid_new.drop([\"geo\"], axis = 1, inplace = True)\n    # Reordering new data columns \n    df_covid_new = df_covid_new[[\"author_id\", \"created_at\", \"public_metrics\", \"text\", \"id\"]]\n    \n    # reset index\n    df_covid_old.reset_index(drop=True)\n    df_covid_new.reset_index(drop=True)\n\n    # astype str\n    df_covid_old = df_covid_old.applymap(str)\n    df_covid_new = df_covid_new.applymap(str)\n\n    #display(df_covid_old.columns.tolist())\n    #display(df_covid_old.head(1))\n    #display(df_covid_new.columns.tolist())\n    #display(df_covid_new.head(1))\n\n    # Dataframe difference\n    new_rows = df_covid_new[~df_covid_new.apply(tuple,1).isin(df_covid_old.apply(tuple,1))]\n    frames = [df_covid_old, new_rows]\n    pd.concat(frames).to_csv(\"covid.csv\", index = False)\n    \n    ##### update locations csv #####\n    df_locations_old = pd.read_csv(\"tweets_locations.csv\")\n    if \"Unnamed: 0\" in df_locations_old.columns.tolist():\n        df_locations_old.drop([\"Unnamed: 0\"], axis = 1, inplace = True)\n    \n    df_locations_old = df_locations_old[['id', 'location', 'username', 'name']]\n    df_locations_new = df_locations_new[['id', 'location', 'username', 'name']]\n    \n    # reset index\n    df_locations_old.reset_index(drop=True)\n    df_locations_new.reset_index(drop=True)\n\n    # astype str\n    df_locations_old = df_locations_old.applymap(str)\n    df_locations_new = df_locations_new.applymap(str)\n\n    # concat dataframes then save them into csv file\n    pd.concat([df_locations_old, df_locations_new]).to_csv(\"tweets_locations.csv\", index = False)\n\nif __name__ == \"__main__\":\n    main()",
   "execution_count": 3,
   "outputs": []
  },
  {
   "cell_type": "code",
   "metadata": {
    "cell_id": "00002-9437ea47-0a85-40a2-9a59-e01f01a24a90",
    "deepnote_output_heights": [
     177
    ],
    "deepnote_to_be_reexecuted": false,
    "source_hash": "7058bb01",
    "execution_start": 1638324367145,
    "execution_millis": 15,
    "deepnote_cell_type": "code"
   },
   "source": "df_covid = pd.read_csv(\"covid.csv\")\n#display(df_covid.sample())\nprint(df_covid.shape)",
   "execution_count": 4,
   "outputs": [
    {
     "name": "stdout",
     "text": "(1399, 5)\n",
     "output_type": "stream"
    }
   ]
  },
  {
   "cell_type": "code",
   "metadata": {
    "tags": [],
    "cell_id": "00003-082dc1e7-c7c8-4117-b813-1859cde59250",
    "deepnote_to_be_reexecuted": false,
    "source_hash": "44f767af",
    "execution_start": 1638324367178,
    "execution_millis": 1,
    "deepnote_cell_type": "code"
   },
   "source": "#df_covid[df_covid.duplicated()]",
   "execution_count": 5,
   "outputs": []
  },
  {
   "cell_type": "code",
   "metadata": {
    "tags": [],
    "cell_id": "00003-f2c9c639-d42a-486c-b100-984c90b311b9",
    "deepnote_to_be_reexecuted": false,
    "source_hash": "7e388d0b",
    "execution_start": 1638324367179,
    "execution_millis": 3,
    "deepnote_output_heights": [
     382
    ],
    "deepnote_cell_type": "code"
   },
   "source": "df_locations = pd.read_csv(\"tweets_locations.csv\")\n#display(df_locations.sample())\nprint(df_locations.shape)",
   "execution_count": 6,
   "outputs": [
    {
     "name": "stdout",
     "text": "(897, 4)\n",
     "output_type": "stream"
    }
   ]
  },
  {
   "cell_type": "code",
   "metadata": {
    "tags": [],
    "cell_id": "00005-43ab461f-bd93-400d-b1b4-bf4466ec53d3",
    "deepnote_to_be_reexecuted": false,
    "source_hash": "f2f88c13",
    "execution_start": 1638324367180,
    "execution_millis": 0,
    "deepnote_output_heights": [
     249
    ],
    "deepnote_cell_type": "code"
   },
   "source": "#df_locations.value_counts(subset=[\"location\"])",
   "execution_count": 7,
   "outputs": []
  },
  {
   "cell_type": "code",
   "source": "df_locations",
   "metadata": {
    "tags": [],
    "cell_id": "00006-0fd8dbb7-872d-4a05-8dd8-a85321a71e08",
    "deepnote_to_be_reexecuted": false,
    "source_hash": "b5007af6",
    "execution_start": 1638324367181,
    "execution_millis": 38,
    "deepnote_cell_type": "code"
   },
   "outputs": [
    {
     "output_type": "execute_result",
     "execution_count": 8,
     "data": {
      "application/vnd.deepnote.dataframe.v2+json": {
       "row_count": 897,
       "column_count": 4,
       "columns": [
        {
         "name": "id",
         "dtype": "int64",
         "stats": {
          "unique_count": 896,
          "nan_count": 0,
          "min": "6287432",
          "max": "1465636669391052805",
          "histogram": [
           {
            "bin_start": 6287432,
            "bin_end": 146563666944763970,
            "count": 458
           },
           {
            "bin_start": 146563666944763970,
            "bin_end": 293127333883240500,
            "count": 0
           },
           {
            "bin_start": 293127333883240500,
            "bin_end": 439691000821717060,
            "count": 0
           },
           {
            "bin_start": 439691000821717060,
            "bin_end": 586254667760193700,
            "count": 0
           },
           {
            "bin_start": 586254667760193700,
            "bin_end": 732818334698670200,
            "count": 15
           },
           {
            "bin_start": 732818334698670200,
            "bin_end": 879382001637146800,
            "count": 58
           },
           {
            "bin_start": 879382001637146800,
            "bin_end": 1025945668575623300,
            "count": 48
           },
           {
            "bin_start": 1025945668575623300,
            "bin_end": 1172509335514099700,
            "count": 65
           },
           {
            "bin_start": 1172509335514099700,
            "bin_end": 1319073002452576300,
            "count": 90
           },
           {
            "bin_start": 1319073002452576300,
            "bin_end": 1465636669391052800,
            "count": 163
           }
          ]
         }
        },
        {
         "name": "location",
         "dtype": "object",
         "stats": {
          "unique_count": 452,
          "nan_count": 361,
          "categories": [
           {
            "name": "United States",
            "count": 15
           },
           {
            "name": "451 others",
            "count": 521
           },
           {
            "name": "Missing",
            "count": 361
           }
          ]
         }
        },
        {
         "name": "username",
         "dtype": "object",
         "stats": {
          "unique_count": 896,
          "nan_count": 0,
          "categories": [
           {
            "name": "ericasilvaneves",
            "count": 2
           },
           {
            "name": "byunfuse06",
            "count": 1
           },
           {
            "name": "894 others",
            "count": 894
           }
          ]
         }
        },
        {
         "name": "name",
         "dtype": "object",
         "stats": {
          "unique_count": 894,
          "nan_count": 0,
          "categories": [
           {
            "name": "Scott",
            "count": 2
           },
           {
            "name": "Judi",
            "count": 2
           },
           {
            "name": "892 others",
            "count": 893
           }
          ]
         }
        },
        {
         "name": "_deepnote_index_column",
         "dtype": "int64"
        }
       ],
       "rows_top": [
        {
         "id": 1041202867594358800,
         "location": "chanbaek ‎(✿˘˘✿)",
         "username": "byunfuse06",
         "name": "배큥 D-438",
         "_deepnote_index_column": 0
        },
        {
         "id": 21118184,
         "location": "London & Liverpool",
         "username": "soapachu",
         "name": "badly-drawn bee 🐝",
         "_deepnote_index_column": 1
        },
        {
         "id": 104075684,
         "location": "Minnesota, USA",
         "username": "ThisIsNotTea",
         "name": "Thisisnottea",
         "_deepnote_index_column": 2
        },
        {
         "id": 1197757502307360800,
         "location": "Soweto, South Africa",
         "username": "Mmathuto_",
         "name": "MaMthethwa🦋",
         "_deepnote_index_column": 3
        },
        {
         "id": 226098607,
         "location": "Thailand",
         "username": "baifern17589",
         "name": "♣︎ｂａｉｆｅｒｎ° feat. 공감🌹",
         "_deepnote_index_column": 4
        },
        {
         "id": 1183157737376534500,
         "location": "nan",
         "username": "PicardSa",
         "name": "S. Picard, Deplorable, Let's Go Brandon!!",
         "_deepnote_index_column": 5
        },
        {
         "id": 300601959,
         "location": "nan",
         "username": "Mike_Glendaran",
         "name": "El Caballero Errante",
         "_deepnote_index_column": 6
        },
        {
         "id": 1307738190552457200,
         "location": "nan",
         "username": "hemsire_bahar",
         "name": "Bahar Hemşire",
         "_deepnote_index_column": 7
        },
        {
         "id": 822578384685461500,
         "location": "California, USA",
         "username": "rdunc17",
         "name": "Officious Intermeddler",
         "_deepnote_index_column": 8
        },
        {
         "id": 1162666071318507500,
         "location": "Oman",
         "username": "arabiandailys",
         "name": "Arabian Daily",
         "_deepnote_index_column": 9
        },
        {
         "id": 724532231394463700,
         "location": "New Delhi, India",
         "username": "MinesMinIndia",
         "name": "Ministry Of Mines",
         "_deepnote_index_column": 10
        },
        {
         "id": 2250661290,
         "location": "nan",
         "username": "qw150qw",
         "name": "13214",
         "_deepnote_index_column": 11
        },
        {
         "id": 2950729953,
         "location": "Lima, Perú",
         "username": "LimaAlDia",
         "name": "Lima Al Día",
         "_deepnote_index_column": 12
        },
        {
         "id": 12341182,
         "location": "Long Beach, CA",
         "username": "razamakesart",
         "name": "raza ⟠",
         "_deepnote_index_column": 13
        },
        {
         "id": 1423660637855502300,
         "location": "nan",
         "username": "WrennHill",
         "name": "Wren Hill 🌸",
         "_deepnote_index_column": 14
        },
        {
         "id": 21664279,
         "location": "FL",
         "username": "VetsOnTheWatch",
         "name": "BigWill",
         "_deepnote_index_column": 15
        },
        {
         "id": 593565083,
         "location": "she/her",
         "username": "Nekusagichan",
         "name": "BiBi🧛‍♀️🌹",
         "_deepnote_index_column": 16
        },
        {
         "id": 15427690,
         "location": "Mitchell SD",
         "username": "dailyrepublic",
         "name": "Mitchell Republic",
         "_deepnote_index_column": 17
        },
        {
         "id": 1345772295567134700,
         "location": "nan",
         "username": "AkimBouguerra",
         "name": "Bouguerra Akim",
         "_deepnote_index_column": 18
        },
        {
         "id": 2765707316,
         "location": "Kuala Lumpur, Wilayah Persekut",
         "username": "_rezarazali_",
         "name": "🇲🇾 Reza Razali 🇵🇸",
         "_deepnote_index_column": 19
        },
        {
         "id": 1266776870336544800,
         "location": "nan",
         "username": "Accablanteh",
         "name": "Accablante 🌙",
         "_deepnote_index_column": 20
        },
        {
         "id": 1169500537013833700,
         "location": "Trivandrum & kanyakumari",
         "username": "DefuIrin",
         "name": "Irin",
         "_deepnote_index_column": 21
        },
        {
         "id": 1384674729366376400,
         "location": "nan",
         "username": "AconBiotech",
         "name": "ACON Biotech",
         "_deepnote_index_column": 22
        },
        {
         "id": 4917469641,
         "location": "Florida, USA",
         "username": "slevinusatarius",
         "name": "Slevinus Artarius 🔜 Who Knows! Cheese!",
         "_deepnote_index_column": 23
        },
        {
         "id": 1266931379792576500,
         "location": "nan",
         "username": "BIDEN46MVP",
         "name": "BidenIsMyPresident!",
         "_deepnote_index_column": 24
        },
        {
         "id": 1409235015213400000,
         "location": "nan",
         "username": "josh25300787",
         "name": "josh",
         "_deepnote_index_column": 25
        },
        {
         "id": 1328978233249902600,
         "location": "nan",
         "username": "VSovranista",
         "name": "Vergilius (Italirico-sovranista)",
         "_deepnote_index_column": 26
        },
        {
         "id": 2179182532,
         "location": "Oron",
         "username": "eminent_james",
         "name": "Eyoukim Eteobong",
         "_deepnote_index_column": 27
        },
        {
         "id": 297904272,
         "location": "Vtuber Hell",
         "username": "stump_bear",
         "name": "Tika",
         "_deepnote_index_column": 28
        },
        {
         "id": 1061482798110797800,
         "location": "Australia",
         "username": "suss_mark",
         "name": "Dr Mark Suss",
         "_deepnote_index_column": 29
        },
        {
         "id": 1248268321251876900,
         "location": "Scotland, United Kingdom",
         "username": "SteveG06322664",
         "name": "Steve #NoMasks - Refusenik",
         "_deepnote_index_column": 30
        },
        {
         "id": 136907894,
         "location": "nan",
         "username": "stn_in",
         "name": "#INDIAhatesCAA_NRC/NPR",
         "_deepnote_index_column": 31
        },
        {
         "id": 938447786684633100,
         "location": "Villabona",
         "username": "PedroMiguel1965",
         "name": "Pedro M.",
         "_deepnote_index_column": 32
        },
        {
         "id": 1398818630159065000,
         "location": "nan",
         "username": "sto_denebkaitos",
         "name": "북쪽왕관자리 / Corona Borealis",
         "_deepnote_index_column": 33
        },
        {
         "id": 1421875768800387000,
         "location": "nan",
         "username": "kazuhiroand",
         "name": "-",
         "_deepnote_index_column": 34
        },
        {
         "id": 1062278949693243400,
         "location": "Languedoc-Roussillon, France",
         "username": "Ventre_bleu30",
         "name": "Ventre bleu",
         "_deepnote_index_column": 35
        },
        {
         "id": 49250418,
         "location": "New York, NY",
         "username": "PaulaRo25",
         "name": "Paula Caruso",
         "_deepnote_index_column": 36
        },
        {
         "id": 48704881,
         "location": "Utrecht, the Netherlands",
         "username": "JasperKlewer",
         "name": "Jasper Klewer",
         "_deepnote_index_column": 37
        },
        {
         "id": 1119313725784150000,
         "location": "Marina, CA",
         "username": "ccwriter9",
         "name": "CeliaSueHecht",
         "_deepnote_index_column": 38
        },
        {
         "id": 1101610159439261700,
         "location": "Centurion, South Africa",
         "username": "Tshepo_Baloyi_",
         "name": "®️Gagu™️",
         "_deepnote_index_column": 39
        },
        {
         "id": 608271932,
         "location": "nan",
         "username": "ethan_boyce",
         "name": "Ethh",
         "_deepnote_index_column": 40
        },
        {
         "id": 21533462,
         "location": "Brisbane, Australia",
         "username": "GreeGreece",
         "name": "Tony Thomas",
         "_deepnote_index_column": 41
        },
        {
         "id": 119449012,
         "location": "Cannes",
         "username": "JEEPIE57",
         "name": "Jean-Paul 🌞🌴😎",
         "_deepnote_index_column": 42
        },
        {
         "id": 1255120440659529700,
         "location": "nan",
         "username": "Mike95320097",
         "name": "Mike",
         "_deepnote_index_column": 43
        },
        {
         "id": 4700419050,
         "location": "nan",
         "username": "5fec93919a544d3",
         "name": "NSV",
         "_deepnote_index_column": 44
        },
        {
         "id": 756823283769770000,
         "location": "nan",
         "username": "Fourgoodreasons",
         "name": "Amanda Shelley",
         "_deepnote_index_column": 45
        },
        {
         "id": 571107562,
         "location": "nan",
         "username": "fron_",
         "name": "Féron Louisette",
         "_deepnote_index_column": 46
        },
        {
         "id": 4258125075,
         "location": "nan",
         "username": "neoksleen",
         "name": "Koen Sleen",
         "_deepnote_index_column": 47
        },
        {
         "id": 1415025084331331600,
         "location": "nan",
         "username": "ElianeHaim",
         "name": "ELIANE HAIM",
         "_deepnote_index_column": 48
        },
        {
         "id": 1017851670,
         "location": "Roma e Napoli",
         "username": "DiVicio",
         "name": "Matteo DV",
         "_deepnote_index_column": 49
        },
        {
         "id": 223896376,
         "location": "Stamford, Rutland",
         "username": "g15elb",
         "name": "Giselle Brannan",
         "_deepnote_index_column": 50
        },
        {
         "id": 806190132,
         "location": "+6221 ",
         "username": "renseoneday",
         "name": "kæren",
         "_deepnote_index_column": 51
        },
        {
         "id": 905078563870736400,
         "location": "Togo",
         "username": "LomeAirport",
         "name": "AIGE",
         "_deepnote_index_column": 52
        },
        {
         "id": 1086221350086369300,
         "location": "nan",
         "username": "aymarre_jean",
         "name": "Jean Aymarre 🇲🇫",
         "_deepnote_index_column": 53
        },
        {
         "id": 383006915,
         "location": "The Emerald City",
         "username": "MicheleDTweets",
         "name": "Michele Dotson | Let the People Vote!",
         "_deepnote_index_column": 54
        },
        {
         "id": 110462806,
         "location": "nan",
         "username": "kakudaikyoo",
         "name": "拡大鏡 👀",
         "_deepnote_index_column": 55
        },
        {
         "id": 262083399,
         "location": "Sandton, South Africa",
         "username": "jetmoses21",
         "name": "Jared",
         "_deepnote_index_column": 56
        },
        {
         "id": 66968296,
         "location": "Turkey",
         "username": "bianet_org",
         "name": "bianet",
         "_deepnote_index_column": 57
        },
        {
         "id": 1299318885821419500,
         "location": "Islas Canarias, España",
         "username": "Dlanochealdia",
         "name": "De la Noche al Día",
         "_deepnote_index_column": 58
        },
        {
         "id": 1022279918,
         "location": "الرياض, المملكة العربية السعود",
         "username": "naif54243700",
         "name": "naif khazim",
         "_deepnote_index_column": 59
        },
        {
         "id": 1432452931002019800,
         "location": "nan",
         "username": "L_uomoqualcuno",
         "name": "epikhairekakia",
         "_deepnote_index_column": 60
        },
        {
         "id": 2745248363,
         "location": "nan",
         "username": "jcksngn",
         "name": "Gene",
         "_deepnote_index_column": 61
        },
        {
         "id": 993736432526221300,
         "location": "nan",
         "username": "Lupita96304901",
         "name": "Lupita #MovilizacionReformaElectrica",
         "_deepnote_index_column": 62
        },
        {
         "id": 3598470976,
         "location": "Deutschland",
         "username": "Chondraki",
         "name": "🖤💉💉Silke Silke 🙏#NoCovid 🙏 🇮🇱",
         "_deepnote_index_column": 63
        },
        {
         "id": 95651804,
         "location": "Brasil",
         "username": "brasigois",
         "name": "Brasigóis Felício",
         "_deepnote_index_column": 64
        },
        {
         "id": 264195664,
         "location": "Pretoria, RSA",
         "username": "SwissDarkness",
         "name": "Kenjutsu Master Blaq",
         "_deepnote_index_column": 65
        },
        {
         "id": 1118933623,
         "location": "Scotland, United Kingdom",
         "username": "ArtChaz",
         "name": "Charlie",
         "_deepnote_index_column": 66
        },
        {
         "id": 37950212,
         "location": "Bangkok, Thailand",
         "username": "ThaiPBS",
         "name": "Thai PBS",
         "_deepnote_index_column": 67
        },
        {
         "id": 1244227827723047000,
         "location": "nan",
         "username": "Ligeis0591",
         "name": "Ligeis0591",
         "_deepnote_index_column": 68
        },
        {
         "id": 18386309,
         "location": "Scarif ",
         "username": "MannuMellow",
         "name": "Bumbling Paladin",
         "_deepnote_index_column": 69
        },
        {
         "id": 612385936,
         "location": "Vienna, Austria",
         "username": "ruslandzhebr",
         "name": "Ruslan",
         "_deepnote_index_column": 70
        },
        {
         "id": 1157326977994334200,
         "location": "nan",
         "username": "tothemoonlogic",
         "name": "Moon Money",
         "_deepnote_index_column": 71
        },
        {
         "id": 1100733802735960000,
         "location": "Ziemia",
         "username": "SebastianMajer3",
         "name": "Sebastian Majer 🇮🇩",
         "_deepnote_index_column": 72
        },
        {
         "id": 42175659,
         "location": "nan",
         "username": "chrisallen236",
         "name": "Bum Ba Clart",
         "_deepnote_index_column": 73
        },
        {
         "id": 197192557,
         "location": "QUITO",
         "username": "GabiOchoadeRoba",
         "name": "Gabriela Ochoa",
         "_deepnote_index_column": 74
        },
        {
         "id": 1370240402444324900,
         "location": "Perth, Western Australia",
         "username": "ausjbird446",
         "name": "ausjbird446💉💉 AZ Vax x 2👍",
         "_deepnote_index_column": 75
        },
        {
         "id": 2149709558,
         "location": "nan",
         "username": "lac4justice",
         "name": "Luis Carrillo",
         "_deepnote_index_column": 76
        },
        {
         "id": 25077472,
         "location": "Lancaster, UK",
         "username": "GuardianDigital",
         "name": "Lancaster Guardian",
         "_deepnote_index_column": 77
        },
        {
         "id": 1316956757617356800,
         "location": "Katoomba, Australia",
         "username": "KatoombaReview",
         "name": "Warren Ross",
         "_deepnote_index_column": 78
        },
        {
         "id": 1055098174464053200,
         "location": "nan",
         "username": "harshdash1",
         "name": "harshdash",
         "_deepnote_index_column": 79
        },
        {
         "id": 1485324258,
         "location": "Roma",
         "username": "ciculatin",
         "name": "Aldo Tim",
         "_deepnote_index_column": 80
        },
        {
         "id": 1228998719242166300,
         "location": "Manchester/London",
         "username": "blue_denton",
         "name": "Blue Dave London (formerly Denton)",
         "_deepnote_index_column": 81
        },
        {
         "id": 134112073,
         "location": "Berlin, Germany",
         "username": "arletted94",
         "name": "Arlette Danielle",
         "_deepnote_index_column": 82
        },
        {
         "id": 707400138,
         "location": "61 Ursae Majoris",
         "username": "TFR_BIGMOSA",
         "name": "TFR_BIGMOSA（可愛いクジン人、地球暮らしを楽しむ長期滞在者）",
         "_deepnote_index_column": 83
        },
        {
         "id": 758124958610444300,
         "location": "Southern California",
         "username": "Tecgale",
         "name": "Galebee",
         "_deepnote_index_column": 84
        },
        {
         "id": 14268323,
         "location": "WV US",
         "username": "sandy4409",
         "name": "SLACK-JAWED YOKEL",
         "_deepnote_index_column": 85
        },
        {
         "id": 216413749,
         "location": "nan",
         "username": "TheOmegaGeek",
         "name": "Dr. Omega 🦞",
         "_deepnote_index_column": 86
        },
        {
         "id": 1686122564,
         "location": "Perth, Western Australia",
         "username": "AussiePunter32",
         "name": "Andrew Carter",
         "_deepnote_index_column": 87
        },
        {
         "id": 1425508764489289700,
         "location": "nan",
         "username": "Ryan_Radd",
         "name": "Ryan",
         "_deepnote_index_column": 88
        },
        {
         "id": 900714383642431500,
         "location": "nan",
         "username": "BVellisco1",
         "name": "Bettybop",
         "_deepnote_index_column": 89
        },
        {
         "id": 443931038,
         "location": "Couture-sur-Loir, France",
         "username": "leclercemmanuel",
         "name": "Emmanuel LECLERC",
         "_deepnote_index_column": 90
        },
        {
         "id": 4704367111,
         "location": "nan",
         "username": "Dagny_R_Taggert",
         "name": "Dagny-Reagan-Taggert",
         "_deepnote_index_column": 91
        },
        {
         "id": 883984732735782900,
         "location": "Not Getting Cheated On",
         "username": "GichingiriEric",
         "name": "Afrocentric",
         "_deepnote_index_column": 92
        },
        {
         "id": 157383853,
         "location": "DC metropolitan area",
         "username": "LindaLarsonKemp",
         "name": "Linda Kemp, MCIS DSc(abd) #BlackLivesMatter",
         "_deepnote_index_column": 93
        },
        {
         "id": 1259461748,
         "location": "nan",
         "username": "PhilNews247",
         "name": "PhilNews",
         "_deepnote_index_column": 94
        },
        {
         "id": 22022381,
         "location": "Pacific Northwest ",
         "username": "DoraMariaCosta",
         "name": "Dora Maria Costa",
         "_deepnote_index_column": 95
        },
        {
         "id": 2232213336,
         "location": "nan",
         "username": "Stone1_0",
         "name": "Newton Stone",
         "_deepnote_index_column": 96
        },
        {
         "id": 55344307,
         "location": "México",
         "username": "puntoporpunto",
         "name": "PUNTOporPUNTO",
         "_deepnote_index_column": 97
        },
        {
         "id": 1463010317730939000,
         "location": "nan",
         "username": "TarendraBru",
         "name": "sorajit",
         "_deepnote_index_column": 98
        },
        {
         "id": 2352977233,
         "location": "3mile od granic Warszawy",
         "username": "duda45tlen",
         "name": "DUDA",
         "_deepnote_index_column": 99
        },
        {
         "id": 1335408357889486800,
         "location": "Sevillε",
         "username": "VOZ00669868",
         "name": "M.......7",
         "_deepnote_index_column": 100
        },
        {
         "id": 1306280120722829300,
         "location": "Waukesha, WI",
         "username": "wiz_political",
         "name": "Wisconsin Neanderthal 🇺🇸🧀",
         "_deepnote_index_column": 101
        },
        {
         "id": 754312765569851400,
         "location": "Tiny, Ontario",
         "username": "bewitched49",
         "name": "Catherine",
         "_deepnote_index_column": 102
        },
        {
         "id": 70662916,
         "location": "Jakarta, Indonesia",
         "username": "AndreasMarbun_",
         "name": "Andreas Marbun",
         "_deepnote_index_column": 103
        },
        {
         "id": 84286851,
         "location": "wivenhoe",
         "username": "tristandawson",
         "name": "Tristan Dawson",
         "_deepnote_index_column": 104
        },
        {
         "id": 845670770747453400,
         "location": "Portland, OR",
         "username": "Jeffsix11",
         "name": "JAB",
         "_deepnote_index_column": 105
        },
        {
         "id": 3263253388,
         "location": "London, England",
         "username": "meNabster",
         "name": "theNabster #Doom #Gloom 🔥☠️",
         "_deepnote_index_column": 106
        },
        {
         "id": 1445896096178323500,
         "location": "nan",
         "username": "_tyler_durdn_",
         "name": "Tyler durden",
         "_deepnote_index_column": 107
        },
        {
         "id": 929707165128056800,
         "location": "North Wales",
         "username": "MiftyJackson",
         "name": "💙#NHSblueheart💙Mifty J💙 remembering Katie",
         "_deepnote_index_column": 108
        },
        {
         "id": 376130777,
         "location": "nan",
         "username": "iIazkano",
         "name": "Iñigo Lazkano",
         "_deepnote_index_column": 109
        },
        {
         "id": 366659942,
         "location": "Europe",
         "username": "scott_mac_rae",
         "name": "F**KBoris-vote Tory get Corruption & Dementia Tax",
         "_deepnote_index_column": 110
        },
        {
         "id": 1303458640360243200,
         "location": "nan",
         "username": "GLORI34437209",
         "name": "GloriaMoneo",
         "_deepnote_index_column": 111
        },
        {
         "id": 930093566,
         "location": "Quito",
         "username": "fernandobgt",
         "name": "Fernando Buendia",
         "_deepnote_index_column": 112
        },
        {
         "id": 1425888438574792700,
         "location": "nan",
         "username": "Anggie_Angus",
         "name": "Ħarold Angus",
         "_deepnote_index_column": 113
        },
        {
         "id": 910042105611014100,
         "location": "nan",
         "username": "ShuaibAlitah",
         "name": "shuaib alitah",
         "_deepnote_index_column": 114
        },
        {
         "id": 307278565,
         "location": "Bergamo",
         "username": "Dome689",
         "name": "Dome Buratti",
         "_deepnote_index_column": 115
        },
        {
         "id": 3033589653,
         "location": "Perpignan, France",
         "username": "aranaudaniel",
         "name": "Daniel Charbonniere 🌺",
         "_deepnote_index_column": 116
        },
        {
         "id": 1445589009690882000,
         "location": "nan",
         "username": "Bill13887141",
         "name": "Bill",
         "_deepnote_index_column": 117
        },
        {
         "id": 298000830,
         "location": "Cape Town",
         "username": "Brandon_degee",
         "name": "BranDolly Parton 🇵🇸🏳️‍🌈",
         "_deepnote_index_column": 118
        },
        {
         "id": 832032916523860000,
         "location": "Florida, USA",
         "username": "EdJarring",
         "name": "Ed Jarrin",
         "_deepnote_index_column": 119
        },
        {
         "id": 557413440,
         "location": "Uruguay",
         "username": "AliciaAlgar",
         "name": "Alicia",
         "_deepnote_index_column": 120
        },
        {
         "id": 16420692,
         "location": "nan",
         "username": "Catman_Rilea",
         "name": "Donald Rilea",
         "_deepnote_index_column": 121
        },
        {
         "id": 218999041,
         "location": "Minneapolis",
         "username": "d_feldman",
         "name": "Daniel Feldman",
         "_deepnote_index_column": 122
        },
        {
         "id": 3834057442,
         "location": "nan",
         "username": "AWelzandt",
         "name": "Alicja Narodowa",
         "_deepnote_index_column": 123
        },
        {
         "id": 771643144727240700,
         "location": "Metaverse",
         "username": "StelliesMafia",
         "name": "JSΞ₿OSS",
         "_deepnote_index_column": 124
        }
       ],
       "rows_bottom": [
        {
         "id": 1362443722525454300,
         "location": "nan",
         "username": "CosmicS70352387",
         "name": "Cosmic Star",
         "_deepnote_index_column": 772
        },
        {
         "id": 165148009,
         "location": "ribeirão preto",
         "username": "suguilu",
         "name": "luana (xtudo)",
         "_deepnote_index_column": 773
        },
        {
         "id": 1130524899695571000,
         "location": "Lockport, NY",
         "username": "JudiNezforTruth",
         "name": "Judi",
         "_deepnote_index_column": 774
        },
        {
         "id": 1266903574153486300,
         "location": "Minneapolis, MN",
         "username": "treg_ann",
         "name": "Ann Treg",
         "_deepnote_index_column": 775
        },
        {
         "id": 464099675,
         "location": "nan",
         "username": "mjhollenbeck",
         "name": "The8thSage",
         "_deepnote_index_column": 776
        },
        {
         "id": 409656995,
         "location": "nan",
         "username": "LeslieFlemmer",
         "name": "Leslie Flemmer",
         "_deepnote_index_column": 777
        },
        {
         "id": 30071893,
         "location": "London, UK",
         "username": "Sparkyxxx",
         "name": "Sparky",
         "_deepnote_index_column": 778
        },
        {
         "id": 839715908817829900,
         "location": "Albuquerque, NM",
         "username": "SusannaSaysSo",
         "name": "SusannaSaysSo",
         "_deepnote_index_column": 779
        },
        {
         "id": 1431036596212670500,
         "location": "nan",
         "username": "Rodgacy5443",
         "name": "María Concepcion Rodriguez",
         "_deepnote_index_column": 780
        },
        {
         "id": 1459654286602875000,
         "location": "nan",
         "username": "halljoy410",
         "name": "Joy Hall",
         "_deepnote_index_column": 781
        },
        {
         "id": 1441297382,
         "location": "Kansas",
         "username": "crickie00",
         "name": "Crickie00🇺🇸",
         "_deepnote_index_column": 782
        },
        {
         "id": 1384983819653025800,
         "location": "nan",
         "username": "RobFisc69455738",
         "name": "Robfish",
         "_deepnote_index_column": 783
        },
        {
         "id": 1291151506549272600,
         "location": "California",
         "username": "CircuitCityVEVO",
         "name": "Bon Ivermectin",
         "_deepnote_index_column": 784
        },
        {
         "id": 1219440099647205400,
         "location": "nan",
         "username": "VaGrangeiro",
         "name": "Valéria Grangeiro 🇧🇷😎💋",
         "_deepnote_index_column": 785
        },
        {
         "id": 794397081427394600,
         "location": "Mouth Full of Lies?",
         "username": "truthpiks",
         "name": "T. Ruth  Burns",
         "_deepnote_index_column": 786
        },
        {
         "id": 158519381,
         "location": "New York #GoodTrouble",
         "username": "loradler",
         "name": "The Honorable HillaryWon 🇺🇸☘️",
         "_deepnote_index_column": 787
        },
        {
         "id": 1105041793081499600,
         "location": "Meanjin",
         "username": "ligerze95880162",
         "name": "LigerZero",
         "_deepnote_index_column": 788
        },
        {
         "id": 3307713694,
         "location": "Poland, OH",
         "username": "PTekach",
         "name": "Pat Tekach {Gifford)",
         "_deepnote_index_column": 789
        },
        {
         "id": 3246201361,
         "location": "nan",
         "username": "JesusGarcia679",
         "name": "Jesús García 🇲🇽",
         "_deepnote_index_column": 790
        },
        {
         "id": 336293275,
         "location": "Utah, USA",
         "username": "JAS16AZ",
         "name": "JAS16AZ✡️",
         "_deepnote_index_column": 791
        },
        {
         "id": 883356475,
         "location": "new york",
         "username": "32wonitcom",
         "name": "32wonit.com",
         "_deepnote_index_column": 792
        },
        {
         "id": 3054434456,
         "location": "nan",
         "username": "1BigAl7890",
         "name": "BigAl56872",
         "_deepnote_index_column": 793
        },
        {
         "id": 1263168182317129700,
         "location": "🥛— love (n.) a great interest and pleasure in something, or, an intense feeling of deep affection. …",
         "username": "tskkberry",
         "name": "elli ♡'s kou | ⚢︎",
         "_deepnote_index_column": 794
        },
        {
         "id": 1292987903208050700,
         "location": "nan",
         "username": "liberty_loki",
         "name": "Loki",
         "_deepnote_index_column": 795
        },
        {
         "id": 415864466,
         "location": "Tucson, AZ",
         "username": "tucsonlaw",
         "name": "tucsonlaw",
         "_deepnote_index_column": 796
        },
        {
         "id": 980841944,
         "location": "Florida, USA",
         "username": "DianeEugenio",
         "name": "Diane Eugenio",
         "_deepnote_index_column": 797
        },
        {
         "id": 138619586,
         "location": "Northern Air Temple",
         "username": "DanTresOmi",
         "name": "Puno De Llero",
         "_deepnote_index_column": 798
        },
        {
         "id": 3057337101,
         "location": "nan",
         "username": "Lozbine",
         "name": "Lozbine",
         "_deepnote_index_column": 799
        },
        {
         "id": 1325610670763729000,
         "location": "nan",
         "username": "JohnParkens",
         "name": "john parkens",
         "_deepnote_index_column": 800
        },
        {
         "id": 1249748595282186200,
         "location": "nan",
         "username": "RhaSylvia1",
         "name": "Rhéa Sylvia",
         "_deepnote_index_column": 801
        },
        {
         "id": 66337782,
         "location": "Jakarta Capital Region",
         "username": "philomimi",
         "name": "ismi",
         "_deepnote_index_column": 802
        },
        {
         "id": 97575792,
         "location": "nan",
         "username": "DCAMillie",
         "name": "D.C.",
         "_deepnote_index_column": 803
        },
        {
         "id": 1343722210544951300,
         "location": "nan",
         "username": "TobyTyl71781864",
         "name": "Red Wave is Coming!",
         "_deepnote_index_column": 804
        },
        {
         "id": 1422228366246039600,
         "location": "nan",
         "username": "TanveerAbrar3",
         "name": "Tanveer Abrar",
         "_deepnote_index_column": 805
        },
        {
         "id": 1083685036216463400,
         "location": "Bermuda Islands",
         "username": "EquityDiamond",
         "name": "DIAMOND EQUITY CONSULTING",
         "_deepnote_index_column": 806
        },
        {
         "id": 329206097,
         "location": "nan",
         "username": "Jorgeg99",
         "name": "Jorge Guillermo",
         "_deepnote_index_column": 807
        },
        {
         "id": 1635656984,
         "location": "nan",
         "username": "chandrawinotoo",
         "name": "Chandra",
         "_deepnote_index_column": 808
        },
        {
         "id": 1293511910432768000,
         "location": "Andhra Pradesh, India",
         "username": "comrademuraliPK",
         "name": "𝐌𝐔𝐑𝐀𝐋𝐈𝐊𝐑𝐈𝐒𝐇𝐍𝐀𝐏𝐒𝐏𝐊 ",
         "_deepnote_index_column": 809
        },
        {
         "id": 886896540928938000,
         "location": "United States",
         "username": "Roland011073",
         "name": "Roland Blackmon",
         "_deepnote_index_column": 810
        },
        {
         "id": 46704411,
         "location": "-21.136246,-44.25931 BH!",
         "username": "acharbel",
         "name": "Andrea Charbel",
         "_deepnote_index_column": 811
        },
        {
         "id": 1429193106898006000,
         "location": "nan",
         "username": "Band3Rc",
         "name": "RCBandiera",
         "_deepnote_index_column": 812
        },
        {
         "id": 1299682310883700700,
         "location": "Not A City Boy ",
         "username": "mark08292020",
         "name": "ThisIsASocialMediaHandle",
         "_deepnote_index_column": 813
        },
        {
         "id": 1267851693590548500,
         "location": "nan",
         "username": "Support_Lif",
         "name": "Maria Granada🇨🇴💙",
         "_deepnote_index_column": 814
        },
        {
         "id": 292833334,
         "location": "nan",
         "username": "mborjacoloma",
         "name": "MarcoBorja Coloma",
         "_deepnote_index_column": 815
        },
        {
         "id": 107218201,
         "location": "Earth",
         "username": "bischbosch1",
         "name": "[KASAP]",
         "_deepnote_index_column": 816
        },
        {
         "id": 3493145541,
         "location": "nan",
         "username": "helenamh17",
         "name": "helenamh",
         "_deepnote_index_column": 817
        },
        {
         "id": 759568004782829600,
         "location": "Texas, USA",
         "username": "Angiliano1",
         "name": "Texan Floki",
         "_deepnote_index_column": 818
        },
        {
         "id": 1352572483,
         "location": "nan",
         "username": "sethrow991",
         "name": "Stephen Davis",
         "_deepnote_index_column": 819
        },
        {
         "id": 1108896667787386900,
         "location": "nan",
         "username": "cover_dark",
         "name": "Dark Cover",
         "_deepnote_index_column": 820
        },
        {
         "id": 1001291189893697500,
         "location": "Brampton, Ontario",
         "username": "shannoniyer",
         "name": "Shannon Iyer",
         "_deepnote_index_column": 821
        },
        {
         "id": 1143376314,
         "location": "Kaneohe, HI",
         "username": "freedragonfly17",
         "name": "Kerfreedom",
         "_deepnote_index_column": 822
        },
        {
         "id": 852640528403505200,
         "location": "Guayaquil, Ecuador",
         "username": "jorgediazgye",
         "name": "Jorge Diaz",
         "_deepnote_index_column": 823
        },
        {
         "id": 18843894,
         "location": "Florida, Florida, Florida ",
         "username": "gaj724",
         "name": "Puppies Resisting in a Red State.Wear your MASK.🐶",
         "_deepnote_index_column": 824
        },
        {
         "id": 1158524089373548500,
         "location": "amiens ",
         "username": "zeysh",
         "name": "sucre",
         "_deepnote_index_column": 825
        },
        {
         "id": 816525724588724200,
         "location": "Canada",
         "username": "LostTogetherCda",
         "name": "Susan Healey",
         "_deepnote_index_column": 826
        },
        {
         "id": 1463708650489458700,
         "location": "nan",
         "username": "paulolisjr",
         "name": "Paulolisjr",
         "_deepnote_index_column": 827
        },
        {
         "id": 280105705,
         "location": "nan",
         "username": "edu_curci",
         "name": "Edu Curci",
         "_deepnote_index_column": 828
        },
        {
         "id": 1162987842,
         "location": "nan",
         "username": "PatDtstuff",
         "name": "SecretaryofRevenge",
         "_deepnote_index_column": 829
        },
        {
         "id": 90951692,
         "location": "Dublin, California",
         "username": "davidjharrison6",
         "name": "David Harrison",
         "_deepnote_index_column": 830
        },
        {
         "id": 1316565953400848400,
         "location": "nan",
         "username": "tbeshy99",
         "name": "Don'tbeshy99",
         "_deepnote_index_column": 831
        },
        {
         "id": 538401157,
         "location": "State of Confusion",
         "username": "_BatMN_",
         "name": "BatMN",
         "_deepnote_index_column": 832
        },
        {
         "id": 1280569865645023200,
         "location": "Boston",
         "username": "DaaniPooh",
         "name": "Raheel Shafi 🌻",
         "_deepnote_index_column": 833
        },
        {
         "id": 1429515164882071600,
         "location": "nan",
         "username": "MactoAz1",
         "name": "OR2AZ",
         "_deepnote_index_column": 834
        },
        {
         "id": 1447384656454770700,
         "location": "Texas",
         "username": "MogulPilot",
         "name": "CubPilot",
         "_deepnote_index_column": 835
        },
        {
         "id": 1420144920195571700,
         "location": "Occupied Territory",
         "username": "RadioFash",
         "name": "Punic! At the disco",
         "_deepnote_index_column": 836
        },
        {
         "id": 68357725,
         "location": "nan",
         "username": "friskydonut",
         "name": "Ben Thompson",
         "_deepnote_index_column": 837
        },
        {
         "id": 42181872,
         "location": "Guelph, Ontario",
         "username": "islesrock",
         "name": "John Lennon",
         "_deepnote_index_column": 838
        },
        {
         "id": 267821512,
         "location": "MAGA",
         "username": "PatriotFlip",
         "name": "🇺🇸 Flip 🇺🇸",
         "_deepnote_index_column": 839
        },
        {
         "id": 1395167948,
         "location": "Pittsburgh, PA",
         "username": "ORMorrison",
         "name": "Oliver Morrison",
         "_deepnote_index_column": 840
        },
        {
         "id": 1283134777424519200,
         "location": "nan",
         "username": "TishaMa01008873",
         "name": "Tisha LeeAnn Martin",
         "_deepnote_index_column": 841
        },
        {
         "id": 1351038418474721300,
         "location": "nan",
         "username": "Ferdi1Suprianto",
         "name": "Pak Ferdi",
         "_deepnote_index_column": 842
        },
        {
         "id": 953148558,
         "location": "Denver, CO",
         "username": "aghigleri95",
         "name": "Amanda Johnson",
         "_deepnote_index_column": 843
        },
        {
         "id": 4617599487,
         "location": "nan",
         "username": "tlfordsc",
         "name": "Be Cocky",
         "_deepnote_index_column": 844
        },
        {
         "id": 1365336567389151200,
         "location": "nan",
         "username": "Artist_sspp",
         "name": "Sprite",
         "_deepnote_index_column": 845
        },
        {
         "id": 1427112638207590400,
         "location": "nan",
         "username": "samyotin401",
         "name": "ศุภรักษ์ อดทน",
         "_deepnote_index_column": 846
        },
        {
         "id": 1096929752601059300,
         "location": "nan",
         "username": "Victora11748909",
         "name": "Victor_am",
         "_deepnote_index_column": 847
        },
        {
         "id": 1174795365448421400,
         "location": "nan",
         "username": "JaniceKMoore2",
         "name": "Janice K Moore",
         "_deepnote_index_column": 848
        },
        {
         "id": 1371832736239997000,
         "location": "Medan Baru, Indonesia",
         "username": "Arinabila_",
         "name": "Arin Nabila",
         "_deepnote_index_column": 849
        },
        {
         "id": 1319105151563714600,
         "location": "enhypen▪︎txt▪︎bts▪︎stray kids♡",
         "username": "biniestarz",
         "name": "ITO: jhu hiatus",
         "_deepnote_index_column": 850
        },
        {
         "id": 1462838190478299100,
         "location": "nan",
         "username": "wirsakdiphansi1",
         "name": "วีรศักดิ์ พันสีทา",
         "_deepnote_index_column": 851
        },
        {
         "id": 999038191,
         "location": "nan",
         "username": "adafra777",
         "name": "Adam Francis",
         "_deepnote_index_column": 852
        },
        {
         "id": 70994984,
         "location": "Paris",
         "username": "_BABACAR",
         "name": "Babacar Samba Naudin ★ ★",
         "_deepnote_index_column": 853
        },
        {
         "id": 1446170959866699800,
         "location": "nan",
         "username": "fjbfjbfjbfjb",
         "name": "Liberal tears taste so sweet",
         "_deepnote_index_column": 854
        },
        {
         "id": 714836509300432900,
         "location": "Colorado, USA",
         "username": "Tank5280",
         "name": "We The People",
         "_deepnote_index_column": 855
        },
        {
         "id": 509797735,
         "location": "USA",
         "username": "MasterHefe",
         "name": "J_Hefe",
         "_deepnote_index_column": 856
        },
        {
         "id": 273603057,
         "location": "Ilha de Lost",
         "username": "gofish_deby",
         "name": "debora guttierrez",
         "_deepnote_index_column": 857
        },
        {
         "id": 1149356028628275200,
         "location": "Ciudad Autónoma de Buenos Aire",
         "username": "19Ivan2",
         "name": "🇦🇷❖☜𝕴𝖛𝖆́𝖓☞❖🇦🇷",
         "_deepnote_index_column": 858
        },
        {
         "id": 2724200325,
         "location": "Berlin",
         "username": "LilostartupLilo",
         "name": "lilo start",
         "_deepnote_index_column": 859
        },
        {
         "id": 219954713,
         "location": "York, PA ",
         "username": "SullyElizabeth4",
         "name": "Sully Pinos",
         "_deepnote_index_column": 860
        },
        {
         "id": 570753125,
         "location": "west texas",
         "username": "Maggieme863",
         "name": "Maggie",
         "_deepnote_index_column": 861
        },
        {
         "id": 732376738156552200,
         "location": "AZ",
         "username": "bluethuglife",
         "name": "Blue",
         "_deepnote_index_column": 862
        },
        {
         "id": 1282801034264543200,
         "location": "nan",
         "username": "Sergeant10301",
         "name": "Sergeant1030",
         "_deepnote_index_column": 863
        },
        {
         "id": 171484568,
         "location": "Melbourne.Bombay.Bangalore",
         "username": "MinolAjekar",
         "name": "Minol",
         "_deepnote_index_column": 864
        },
        {
         "id": 907365745515999200,
         "location": "nan",
         "username": "bricon40",
         "name": "Bricon40",
         "_deepnote_index_column": 865
        },
        {
         "id": 1088525713781731300,
         "location": "Paracambi, Brasil",
         "username": "ericasilvaneves",
         "name": "Erica Neves Da Silva🌵🌵💙",
         "_deepnote_index_column": 866
        },
        {
         "id": 1366030349315100700,
         "location": "nan",
         "username": "varunsh64953962",
         "name": "varun shukla",
         "_deepnote_index_column": 867
        },
        {
         "id": 864594454904283100,
         "location": "nan",
         "username": "dawnslight1776",
         "name": "Patriot Guy",
         "_deepnote_index_column": 868
        },
        {
         "id": 4895334994,
         "location": "Brazil",
         "username": "anabchamploni",
         "name": "Vitamin A - Master's degree in Social Psychology",
         "_deepnote_index_column": 869
        },
        {
         "id": 833875558803046400,
         "location": "New England ",
         "username": "Emmerbetic",
         "name": "Emmerbetic",
         "_deepnote_index_column": 870
        },
        {
         "id": 1436366064166789000,
         "location": "nan",
         "username": "PierretteDe2",
         "name": "Pierrette De",
         "_deepnote_index_column": 871
        },
        {
         "id": 874276016,
         "location": "nan",
         "username": "BRok_Horrible",
         "name": "RGkaKgar",
         "_deepnote_index_column": 872
        },
        {
         "id": 1427341234679402500,
         "location": "nan",
         "username": "John14070250",
         "name": "John",
         "_deepnote_index_column": 873
        },
        {
         "id": 1293538381,
         "location": "North America",
         "username": "jerZboyUSA",
         "name": "*****jerZboyMediaUSA/#LetsGoBrandon****",
         "_deepnote_index_column": 874
        },
        {
         "id": 566324588,
         "location": "nan",
         "username": "TD_Stewart",
         "name": "Terry Stewart",
         "_deepnote_index_column": 875
        },
        {
         "id": 1356820080286335000,
         "location": "nan",
         "username": "Jajangsum127",
         "name": "JajangSumarna",
         "_deepnote_index_column": 876
        },
        {
         "id": 1023810577838235600,
         "location": "Multifandom World",
         "username": "heyitsmehakim",
         "name": "•نور حكيمه•🇲🇾",
         "_deepnote_index_column": 877
        },
        {
         "id": 1340795701874159600,
         "location": "nan",
         "username": "Lorrain15587901",
         "name": "Lorraine",
         "_deepnote_index_column": 878
        },
        {
         "id": 1402327969087910000,
         "location": "nan",
         "username": "emma6USA",
         "name": "Susan",
         "_deepnote_index_column": 879
        },
        {
         "id": 1290880988420042800,
         "location": "nan",
         "username": "SarcasticCupcak",
         "name": "Sarcastic Cupcake",
         "_deepnote_index_column": 880
        },
        {
         "id": 1139828011312635900,
         "location": "nan",
         "username": "RinTheTrap",
         "name": "Rin🔞🇻🇳",
         "_deepnote_index_column": 881
        },
        {
         "id": 924243895,
         "location": "nan",
         "username": "chucka20",
         "name": "chaz",
         "_deepnote_index_column": 882
        },
        {
         "id": 6287432,
         "location": "Jacksonville, IL",
         "username": "USA_1st_MAGA",
         "name": "Shannon Leigh",
         "_deepnote_index_column": 883
        },
        {
         "id": 953876146034298900,
         "location": "France",
         "username": "Yomartel7",
         "name": "Yomartel7",
         "_deepnote_index_column": 884
        },
        {
         "id": 719357955439796200,
         "location": "nan",
         "username": "marinabentan1",
         "name": "marinabentan",
         "_deepnote_index_column": 885
        },
        {
         "id": 1280275308122214400,
         "location": "nan",
         "username": "TheWand02571173",
         "name": "The Wanderer",
         "_deepnote_index_column": 886
        },
        {
         "id": 1011381399235055600,
         "location": "United States",
         "username": "inside_outfield",
         "name": "InsideOutfield",
         "_deepnote_index_column": 887
        },
        {
         "id": 62678998,
         "location": "Ellis County, TX",
         "username": "brianeharrison",
         "name": "Brian Harrison",
         "_deepnote_index_column": 888
        },
        {
         "id": 713254164286074900,
         "location": "nan",
         "username": "LiekMacowParrot",
         "name": "Lieka",
         "_deepnote_index_column": 889
        },
        {
         "id": 24206398,
         "location": "Missouri, USA",
         "username": "TweetFiction",
         "name": "It's James and the Awful Truth",
         "_deepnote_index_column": 890
        },
        {
         "id": 3860712673,
         "location": "nan",
         "username": "mrtnzfred",
         "name": "Fred martinez",
         "_deepnote_index_column": 891
        },
        {
         "id": 1444009032738607000,
         "location": "nan",
         "username": "qdrv8cqj9w",
         "name": "Julie Habberfield",
         "_deepnote_index_column": 892
        },
        {
         "id": 1286624674957406200,
         "location": "nan",
         "username": "AlwaysAuntB",
         "name": "AlwaysAuntB",
         "_deepnote_index_column": 893
        },
        {
         "id": 39310815,
         "location": "The Mahogany Room",
         "username": "Blackmhgny",
         "name": "Blackmhgny",
         "_deepnote_index_column": 894
        },
        {
         "id": 1113824938215997400,
         "location": "USA",
         "username": "thiborz",
         "name": "🇺🇲 Omicron Mogwai™🇵🇷",
         "_deepnote_index_column": 895
        },
        {
         "id": 2944410062,
         "location": "nan",
         "username": "starbucksbauer",
         "name": "Walter Bauer",
         "_deepnote_index_column": 896
        }
       ]
      },
      "text/plain": "                      id              location        username  \\\n0    1041202867594358785      chanbaek ‎(✿˘˘✿)      byunfuse06   \n1               21118184    London & Liverpool        soapachu   \n2              104075684        Minnesota, USA    ThisIsNotTea   \n3    1197757502307360768  Soweto, South Africa       Mmathuto_   \n4              226098607              Thailand    baifern17589   \n..                   ...                   ...             ...   \n892  1444009032738607107                   NaN      qdrv8cqj9w   \n893  1286624674957406209                   NaN     AlwaysAuntB   \n894             39310815     The Mahogany Room      Blackmhgny   \n895  1113824938215997440                   USA         thiborz   \n896           2944410062                   NaN  starbucksbauer   \n\n                     name  \n0                배큥 D-438  \n1       badly-drawn bee 🐝  \n2            Thisisnottea  \n3             MaMthethwa🦋  \n4    ♣︎ｂａｉｆｅｒｎ° feat. 공감🌹  \n..                    ...  \n892     Julie Habberfield  \n893           AlwaysAuntB  \n894            Blackmhgny  \n895  🇺🇲 Omicron Mogwai™🇵🇷  \n896          Walter Bauer  \n\n[897 rows x 4 columns]",
      "text/html": "<div>\n<style scoped>\n    .dataframe tbody tr th:only-of-type {\n        vertical-align: middle;\n    }\n\n    .dataframe tbody tr th {\n        vertical-align: top;\n    }\n\n    .dataframe thead th {\n        text-align: right;\n    }\n</style>\n<table border=\"1\" class=\"dataframe\">\n  <thead>\n    <tr style=\"text-align: right;\">\n      <th></th>\n      <th>id</th>\n      <th>location</th>\n      <th>username</th>\n      <th>name</th>\n    </tr>\n  </thead>\n  <tbody>\n    <tr>\n      <th>0</th>\n      <td>1041202867594358785</td>\n      <td>chanbaek ‎(✿˘˘✿)</td>\n      <td>byunfuse06</td>\n      <td>배큥 D-438</td>\n    </tr>\n    <tr>\n      <th>1</th>\n      <td>21118184</td>\n      <td>London &amp; Liverpool</td>\n      <td>soapachu</td>\n      <td>badly-drawn bee 🐝</td>\n    </tr>\n    <tr>\n      <th>2</th>\n      <td>104075684</td>\n      <td>Minnesota, USA</td>\n      <td>ThisIsNotTea</td>\n      <td>Thisisnottea</td>\n    </tr>\n    <tr>\n      <th>3</th>\n      <td>1197757502307360768</td>\n      <td>Soweto, South Africa</td>\n      <td>Mmathuto_</td>\n      <td>MaMthethwa🦋</td>\n    </tr>\n    <tr>\n      <th>4</th>\n      <td>226098607</td>\n      <td>Thailand</td>\n      <td>baifern17589</td>\n      <td>♣︎ｂａｉｆｅｒｎ° feat. 공감🌹</td>\n    </tr>\n    <tr>\n      <th>...</th>\n      <td>...</td>\n      <td>...</td>\n      <td>...</td>\n      <td>...</td>\n    </tr>\n    <tr>\n      <th>892</th>\n      <td>1444009032738607107</td>\n      <td>NaN</td>\n      <td>qdrv8cqj9w</td>\n      <td>Julie Habberfield</td>\n    </tr>\n    <tr>\n      <th>893</th>\n      <td>1286624674957406209</td>\n      <td>NaN</td>\n      <td>AlwaysAuntB</td>\n      <td>AlwaysAuntB</td>\n    </tr>\n    <tr>\n      <th>894</th>\n      <td>39310815</td>\n      <td>The Mahogany Room</td>\n      <td>Blackmhgny</td>\n      <td>Blackmhgny</td>\n    </tr>\n    <tr>\n      <th>895</th>\n      <td>1113824938215997440</td>\n      <td>USA</td>\n      <td>thiborz</td>\n      <td>🇺🇲 Omicron Mogwai™🇵🇷</td>\n    </tr>\n    <tr>\n      <th>896</th>\n      <td>2944410062</td>\n      <td>NaN</td>\n      <td>starbucksbauer</td>\n      <td>Walter Bauer</td>\n    </tr>\n  </tbody>\n</table>\n<p>897 rows × 4 columns</p>\n</div>"
     },
     "metadata": {}
    }
   ],
   "execution_count": 8
  },
  {
   "cell_type": "code",
   "source": "",
   "metadata": {
    "tags": [],
    "cell_id": "00007-568dbb1f-0b7e-4a71-bd6a-acf2b79a369d",
    "deepnote_to_be_reexecuted": false,
    "source_hash": "b623e53d",
    "execution_start": 1638324367217,
    "execution_millis": 2,
    "deepnote_cell_type": "code"
   },
   "outputs": [],
   "execution_count": 8
  },
  {
   "cell_type": "markdown",
   "source": "<a style='text-decoration:none;line-height:16px;display:flex;color:#5B5B62;padding:10px;justify-content:end;' href='https://deepnote.com?utm_source=created-in-deepnote-cell&projectId=a1e7defd-57f6-4a69-933f-51f8c5c266bb' target=\"_blank\">\n<img alt='Created in deepnote.com' style='display:inline;max-height:16px;margin:0px;margin-right:7.5px;' src='data:image/svg+xml;base64,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' > </img>\nCreated in <span style='font-weight:600;margin-left:4px;'>Deepnote</span></a>",
   "metadata": {
    "tags": [],
    "created_in_deepnote_cell": true,
    "deepnote_cell_type": "markdown"
   }
  }
 ],
 "nbformat": 4,
 "nbformat_minor": 5,
 "metadata": {
  "kernelspec": {
   "display_name": "Python 3 (ipykernel)",
   "language": "python",
   "name": "python3"
  },
  "language_info": {
   "codemirror_mode": {
    "name": "ipython",
    "version": 3
   },
   "file_extension": ".py",
   "mimetype": "text/x-python",
   "name": "python",
   "nbconvert_exporter": "python",
   "pygments_lexer": "ipython3",
   "version": "3.9.8"
  },
  "deepnote_notebook_id": "b2b1313a-2689-4b6e-bb0c-9b9b97e1dc03",
  "deepnote": {
   "is_reactive": false
  },
  "deepnote_execution_queue": []
 }
}