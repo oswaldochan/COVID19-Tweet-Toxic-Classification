{
  "nbformat": 4,
  "nbformat_minor": 0,
  "metadata": {
    "orig_nbformat": 2,
    "deepnote": {
      "is_reactive": false
    },
    "deepnote_notebook_id": "7e7cb7be-b813-42b0-9f47-49a3c559b5b0",
    "deepnote_execution_queue": [],
    "colab": {
      "name": "03_NLP_generate_model.ipynb",
      "provenance": []
    },
    "language_info": {
      "name": "python"
    },
    "kernelspec": {
      "name": "python3",
      "display_name": "Python 3"
    },
    "accelerator": "TPU"
  },
  "cells": [
    {
      "cell_type": "code",
      "metadata": {
        "tags": [],
        "cell_id": "00000-1c4f85ea-abc0-4f9b-84fd-6ea56311ba3e",
        "deepnote_to_be_reexecuted": false,
        "source_hash": "a2a14f",
        "execution_start": 1638480454866,
        "execution_millis": 5419,
        "deepnote_cell_type": "code",
        "id": "CteLtHnulFdO"
      },
      "source": [
        "import pandas as pd\n",
        "import numpy as np\n",
        "import tensorflow as tf\n",
        "import io\n",
        "import re\n",
        "from sklearn.preprocessing import OneHotEncoder\n",
        "import joblib\n",
        "from tensorflow import keras\n",
        "using_colab = True"
      ],
      "execution_count": 1,
      "outputs": []
    },
    {
      "cell_type": "markdown",
      "metadata": {
        "tags": [],
        "cell_id": "00001-e3466362-c409-49ae-b7f1-5a981625111e",
        "deepnote_cell_type": "markdown",
        "id": "HEA86PvwlFdP"
      },
      "source": [
        "### Loading and _cleaning_ of the non-toxic tweets"
      ]
    },
    {
      "cell_type": "code",
      "metadata": {
        "tags": [],
        "cell_id": "00003-4555dd05-3d32-46d3-99df-227109c99c1c",
        "deepnote_to_be_reexecuted": false,
        "source_hash": "daca8940",
        "execution_start": 1638485173281,
        "execution_millis": 757,
        "deepnote_cell_type": "code",
        "colab": {
          "base_uri": "https://localhost:8080/"
        },
        "id": "MW-YW_V4lFdQ",
        "outputId": "cd479efb-b23c-46b2-c3f1-3d6e067ebe63"
      },
      "source": [
        "if using_colab:\n",
        "    path_to_txt = '/content/tweets_non_negative.txt'\n",
        "\n",
        "else: #deepnote\n",
        "    path_to_txt = '/datasets/toxic-dataset/non_toxic_tweets.txt'\n",
        "\n",
        "with io.open(path_to_txt, encoding='utf-8') as f:\n",
        "    text = f.read().lower()\n",
        "print('corpus length:', len(text))\n",
        "\n",
        "# removing non alphabetic characters, keeping the \\n\n",
        "clean_text = re.sub(r'[^A-Za-z19 ]+', '', text)\n",
        "\n",
        "# unique characters\n",
        "chars = sorted(list(set(clean_text)))\n",
        "print('total chars:', len(chars))\n",
        "\n",
        "# to make the conversion\n",
        "char_to_indices = dict((c, i) for i, c in enumerate(chars))\n",
        "indices_to_char = dict((i, c) for i, c in enumerate(chars))"
      ],
      "execution_count": 117,
      "outputs": [
        {
          "output_type": "stream",
          "name": "stdout",
          "text": [
            "corpus length: 6741499\n",
            "total chars: 29\n"
          ]
        }
      ]
    },
    {
      "cell_type": "code",
      "metadata": {
        "id": "iP8qZ5fk7JkG"
      },
      "source": [
        "# chars"
      ],
      "execution_count": 119,
      "outputs": []
    },
    {
      "cell_type": "code",
      "metadata": {
        "tags": [],
        "cell_id": "00003-11172035-26ed-4b41-9b23-d0fcbfd5d34a",
        "deepnote_to_be_reexecuted": false,
        "source_hash": "eec34095",
        "execution_start": 1638485174037,
        "execution_millis": 15,
        "deepnote_output_heights": [
          20.5
        ],
        "deepnote_cell_type": "code",
        "colab": {
          "base_uri": "https://localhost:8080/",
          "height": 35
        },
        "id": "kMLeX3LjlFdR",
        "outputId": "208d2583-d7ef-4c40-d9e9-97082120c4e7"
      },
      "source": [
        "clean_text[0]"
      ],
      "execution_count": 120,
      "outputs": [
        {
          "output_type": "execute_result",
          "data": {
            "application/vnd.google.colaboratory.intrinsic+json": {
              "type": "string"
            },
            "text/plain": [
              "'c'"
            ]
          },
          "metadata": {},
          "execution_count": 120
        }
      ]
    },
    {
      "cell_type": "code",
      "metadata": {
        "tags": [],
        "cell_id": "00009-bf6d953a-60dd-4771-acef-d90b6c15f03e",
        "deepnote_to_be_reexecuted": false,
        "source_hash": "2a8dfb19",
        "execution_start": 1638485174898,
        "execution_millis": 1845,
        "deepnote_output_heights": [
          520.5
        ],
        "deepnote_cell_type": "code",
        "colab": {
          "base_uri": "https://localhost:8080/"
        },
        "id": "dX86mNWZlFdS",
        "outputId": "99d6fa22-b4f9-411c-926d-8134c5955cb7"
      },
      "source": [
        "# cut the text in semi-redundant sequences of maxlen characters\n",
        "MAXLEN = 25\n",
        "WINDOWS_STEP = 3\n",
        "ADDITIONAL_CHARS = 1\n",
        "sentences = []\n",
        "next_chars = []\n",
        "\n",
        "# sentences will act as 'X' and next_chars 'y'\n",
        "# so it will be like this\n",
        "# ...clean tex | t\n",
        "# ...the sente | c\n",
        "# ...from covi | d\n",
        "# etc etc etc\n",
        "\n",
        "for i in range(0, len(clean_text) - MAXLEN, WINDOWS_STEP):\n",
        "    sentences.append(clean_text[i: i + MAXLEN])\n",
        "    next_chars.append(clean_text[i + MAXLEN: i + MAXLEN + ADDITIONAL_CHARS])\n",
        "print('nb sequences:', len(sentences))"
      ],
      "execution_count": 140,
      "outputs": [
        {
          "output_type": "stream",
          "name": "stdout",
          "text": [
            "nb sequences: 2101736\n"
          ]
        }
      ]
    },
    {
      "cell_type": "code",
      "metadata": {
        "tags": [],
        "cell_id": "00005-76d70d69-e747-4491-bf9d-8c8fe93f91c0",
        "deepnote_to_be_reexecuted": false,
        "source_hash": "dceddbb7",
        "execution_start": 1638485177300,
        "execution_millis": 4424050,
        "deepnote_output_heights": [
          20.5
        ],
        "deepnote_cell_type": "code",
        "colab": {
          "base_uri": "https://localhost:8080/",
          "height": 35
        },
        "id": "Jk9pYjx3lFdS",
        "outputId": "d6851dbf-8ed0-413b-91c7-082bef7df55b"
      },
      "source": [
        "sentences[198]"
      ],
      "execution_count": 141,
      "outputs": [
        {
          "output_type": "execute_result",
          "data": {
            "application/vnd.google.colaboratory.intrinsic+json": {
              "type": "string"
            },
            "text/plain": [
              "'meddle in short how can i'"
            ]
          },
          "metadata": {},
          "execution_count": 141
        }
      ]
    },
    {
      "cell_type": "code",
      "metadata": {
        "tags": [],
        "cell_id": "00006-36cddcaa-0708-4c4e-ad7a-93fb3fc2462b",
        "deepnote_to_be_reexecuted": false,
        "source_hash": "f4faaef4",
        "execution_start": 1638485181084,
        "execution_millis": 5,
        "deepnote_output_heights": [
          20.5
        ],
        "deepnote_cell_type": "code",
        "colab": {
          "base_uri": "https://localhost:8080/",
          "height": 35
        },
        "id": "DgGjJqcAlFdS",
        "outputId": "0c459223-d1f4-4e86-bb55-77922855a456"
      },
      "source": [
        "next_chars[198]"
      ],
      "execution_count": 142,
      "outputs": [
        {
          "output_type": "execute_result",
          "data": {
            "application/vnd.google.colaboratory.intrinsic+json": {
              "type": "string"
            },
            "text/plain": [
              "' '"
            ]
          },
          "metadata": {},
          "execution_count": 142
        }
      ]
    },
    {
      "cell_type": "code",
      "metadata": {
        "tags": [],
        "cell_id": "00013-4286e4bb-fa9a-49b2-ba50-8476b0e78170",
        "deepnote_to_be_reexecuted": false,
        "source_hash": "d8b95ce2",
        "execution_start": 1638485183795,
        "execution_millis": 0,
        "deepnote_cell_type": "code",
        "id": "rCvKMnnVlFdS"
      },
      "source": [
        "def convert_string_to_int(string):\n",
        "    ''''\n",
        "    This functions receives a single string and return a numpy array of all \n",
        "    its characters converted to integers.\n",
        "    '''\n",
        "    list_of_ints = [char_to_indices[ch] for ch in string]\n",
        "    return np.array(list_of_ints)\n",
        "\n",
        "def convert_int_to_string(list_of_ints):\n",
        "    ''''\n",
        "    This functions recives a single array and returns a string\n",
        "    where all its letters were converted from integers.\n",
        "    '''\n",
        "    string = ''.join([indices_to_char[integ] for  integ in list_of_ints])\n",
        "    return string\n"
      ],
      "execution_count": 143,
      "outputs": []
    },
    {
      "cell_type": "code",
      "metadata": {
        "tags": [],
        "cell_id": "00010-d1847633-3ea0-4dfb-95b2-b77a4f2ac509",
        "deepnote_to_be_reexecuted": false,
        "source_hash": "ab204f5d",
        "execution_start": 1638485196768,
        "execution_millis": 390,
        "deepnote_cell_type": "code",
        "id": "FXLirsn0lFdT"
      },
      "source": [
        "# this one-hot encodes the sentences, which is not ideal bc of the resources it consumes\n",
        "# X = np.zeros((len(sentences), MAXLEN, len(chars)), dtype=np.bool)\n",
        "# y = np.zeros((len(sentences), len(chars)), dtype=np.bool)\n",
        "# for i, sentence in enumerate(sentences):\n",
        "#     for t, char in enumerate(sentence):\n",
        "#         X[i, t, char_to_indices[char]] = 1\n",
        "#     y[i, char_to_indices[next_chars[i]]] = 1\n",
        "\n",
        "X = np.array([convert_string_to_int(stri) for stri in sentences])\n",
        "y_arr = np.array([convert_string_to_int(y_int) for y_int in next_chars])"
      ],
      "execution_count": 144,
      "outputs": []
    },
    {
      "cell_type": "code",
      "metadata": {
        "id": "M0izsj2mnQpN"
      },
      "source": [
        "# Transform each different integer (corresponding to a char)\n",
        "# to a one hot encoding representation\n",
        "enc = OneHotEncoder()\n",
        "\n",
        "enc.fit(y_arr)\n",
        "# joblib.dump(enc, \"/content/onehot_encoder.joblib\")\n",
        "y = enc.transform(y_arr).todense()"
      ],
      "execution_count": 145,
      "outputs": []
    },
    {
      "cell_type": "code",
      "metadata": {
        "id": "uDGrnG9X7zhs"
      },
      "source": [
        "# enc_hot = joblib.load('/content/onehot_encoder.joblib')"
      ],
      "execution_count": 146,
      "outputs": []
    },
    {
      "cell_type": "code",
      "metadata": {
        "colab": {
          "base_uri": "https://localhost:8080/"
        },
        "id": "OdsozyJMniSC",
        "outputId": "8e1f89e0-f872-4e42-ceb9-3b1d45d3a98a"
      },
      "source": [
        "y.shape"
      ],
      "execution_count": 147,
      "outputs": [
        {
          "output_type": "execute_result",
          "data": {
            "text/plain": [
              "(2101736, 29)"
            ]
          },
          "metadata": {},
          "execution_count": 147
        }
      ]
    },
    {
      "cell_type": "code",
      "metadata": {
        "colab": {
          "base_uri": "https://localhost:8080/"
        },
        "id": "JaKJbBHDnv5i",
        "outputId": "145d7562-5133-4913-95a2-3e23368b6dd7"
      },
      "source": [
        "X.shape"
      ],
      "execution_count": 148,
      "outputs": [
        {
          "output_type": "execute_result",
          "data": {
            "text/plain": [
              "(2101736, 25)"
            ]
          },
          "metadata": {},
          "execution_count": 148
        }
      ]
    },
    {
      "cell_type": "markdown",
      "metadata": {
        "id": "cZVWYN7x9VxO"
      },
      "source": [
        "### Creation and training of the model"
      ]
    },
    {
      "cell_type": "code",
      "metadata": {
        "colab": {
          "base_uri": "https://localhost:8080/"
        },
        "id": "1aLUVvDT-U-N",
        "outputId": "52297e21-1623-4404-8350-c1219a61eeac"
      },
      "source": [
        "X = X.reshape((len(X), len(X[0]), 1))\n",
        "X.shape\n",
        "\n",
        "# h is the number of inputs. \n",
        "# If X_reg_train was (1000,10) then we use the input_shape of (10,)"
      ],
      "execution_count": 149,
      "outputs": [
        {
          "output_type": "execute_result",
          "data": {
            "text/plain": [
              "(2101736, 25, 1)"
            ]
          },
          "metadata": {},
          "execution_count": 149
        }
      ]
    },
    {
      "cell_type": "code",
      "metadata": {
        "colab": {
          "base_uri": "https://localhost:8080/"
        },
        "id": "WJvWf961Bigm",
        "outputId": "ea607da6-e0d5-495f-f2ef-5f182478310a"
      },
      "source": [
        "resolver = tf.distribute.cluster_resolver.TPUClusterResolver(tpu='')\n",
        "tf.config.experimental_connect_to_cluster(resolver)\n",
        "# This is the TPU initialization code that has to be at the beginning.\n",
        "tf.tpu.experimental.initialize_tpu_system(resolver)\n",
        "print(\"All devices: \", tf.config.list_logical_devices('TPU'))\n",
        "\n",
        "strategy = tf.distribute.TPUStrategy(resolver)"
      ],
      "execution_count": 150,
      "outputs": [
        {
          "output_type": "stream",
          "name": "stdout",
          "text": [
            "INFO:tensorflow:Deallocate tpu buffers before initializing tpu system.\n"
          ]
        },
        {
          "output_type": "stream",
          "name": "stderr",
          "text": [
            "INFO:tensorflow:Deallocate tpu buffers before initializing tpu system.\n"
          ]
        },
        {
          "output_type": "stream",
          "name": "stdout",
          "text": [
            "WARNING:tensorflow:TPU system grpc://10.31.77.98:8470 has already been initialized. Reinitializing the TPU can cause previously created variables on TPU to be lost.\n"
          ]
        },
        {
          "output_type": "stream",
          "name": "stderr",
          "text": [
            "WARNING:tensorflow:TPU system grpc://10.31.77.98:8470 has already been initialized. Reinitializing the TPU can cause previously created variables on TPU to be lost.\n"
          ]
        },
        {
          "output_type": "stream",
          "name": "stdout",
          "text": [
            "INFO:tensorflow:Initializing the TPU system: grpc://10.31.77.98:8470\n"
          ]
        },
        {
          "output_type": "stream",
          "name": "stderr",
          "text": [
            "INFO:tensorflow:Initializing the TPU system: grpc://10.31.77.98:8470\n"
          ]
        },
        {
          "output_type": "stream",
          "name": "stdout",
          "text": [
            "INFO:tensorflow:Finished initializing TPU system.\n"
          ]
        },
        {
          "output_type": "stream",
          "name": "stderr",
          "text": [
            "INFO:tensorflow:Finished initializing TPU system.\n"
          ]
        },
        {
          "output_type": "stream",
          "name": "stdout",
          "text": [
            "All devices:  [LogicalDevice(name='/job:worker/replica:0/task:0/device:TPU:0', device_type='TPU'), LogicalDevice(name='/job:worker/replica:0/task:0/device:TPU:1', device_type='TPU'), LogicalDevice(name='/job:worker/replica:0/task:0/device:TPU:2', device_type='TPU'), LogicalDevice(name='/job:worker/replica:0/task:0/device:TPU:3', device_type='TPU'), LogicalDevice(name='/job:worker/replica:0/task:0/device:TPU:4', device_type='TPU'), LogicalDevice(name='/job:worker/replica:0/task:0/device:TPU:5', device_type='TPU'), LogicalDevice(name='/job:worker/replica:0/task:0/device:TPU:6', device_type='TPU'), LogicalDevice(name='/job:worker/replica:0/task:0/device:TPU:7', device_type='TPU')]\n",
            "INFO:tensorflow:Found TPU system:\n"
          ]
        },
        {
          "output_type": "stream",
          "name": "stderr",
          "text": [
            "INFO:tensorflow:Found TPU system:\n"
          ]
        },
        {
          "output_type": "stream",
          "name": "stdout",
          "text": [
            "INFO:tensorflow:*** Num TPU Cores: 8\n"
          ]
        },
        {
          "output_type": "stream",
          "name": "stderr",
          "text": [
            "INFO:tensorflow:*** Num TPU Cores: 8\n"
          ]
        },
        {
          "output_type": "stream",
          "name": "stdout",
          "text": [
            "INFO:tensorflow:*** Num TPU Workers: 1\n"
          ]
        },
        {
          "output_type": "stream",
          "name": "stderr",
          "text": [
            "INFO:tensorflow:*** Num TPU Workers: 1\n"
          ]
        },
        {
          "output_type": "stream",
          "name": "stdout",
          "text": [
            "INFO:tensorflow:*** Num TPU Cores Per Worker: 8\n"
          ]
        },
        {
          "output_type": "stream",
          "name": "stderr",
          "text": [
            "INFO:tensorflow:*** Num TPU Cores Per Worker: 8\n"
          ]
        },
        {
          "output_type": "stream",
          "name": "stdout",
          "text": [
            "INFO:tensorflow:*** Available Device: _DeviceAttributes(/job:localhost/replica:0/task:0/device:CPU:0, CPU, 0, 0)\n"
          ]
        },
        {
          "output_type": "stream",
          "name": "stderr",
          "text": [
            "INFO:tensorflow:*** Available Device: _DeviceAttributes(/job:localhost/replica:0/task:0/device:CPU:0, CPU, 0, 0)\n"
          ]
        },
        {
          "output_type": "stream",
          "name": "stdout",
          "text": [
            "INFO:tensorflow:*** Available Device: _DeviceAttributes(/job:worker/replica:0/task:0/device:CPU:0, CPU, 0, 0)\n"
          ]
        },
        {
          "output_type": "stream",
          "name": "stderr",
          "text": [
            "INFO:tensorflow:*** Available Device: _DeviceAttributes(/job:worker/replica:0/task:0/device:CPU:0, CPU, 0, 0)\n"
          ]
        },
        {
          "output_type": "stream",
          "name": "stdout",
          "text": [
            "INFO:tensorflow:*** Available Device: _DeviceAttributes(/job:worker/replica:0/task:0/device:TPU:0, TPU, 0, 0)\n"
          ]
        },
        {
          "output_type": "stream",
          "name": "stderr",
          "text": [
            "INFO:tensorflow:*** Available Device: _DeviceAttributes(/job:worker/replica:0/task:0/device:TPU:0, TPU, 0, 0)\n"
          ]
        },
        {
          "output_type": "stream",
          "name": "stdout",
          "text": [
            "INFO:tensorflow:*** Available Device: _DeviceAttributes(/job:worker/replica:0/task:0/device:TPU:1, TPU, 0, 0)\n"
          ]
        },
        {
          "output_type": "stream",
          "name": "stderr",
          "text": [
            "INFO:tensorflow:*** Available Device: _DeviceAttributes(/job:worker/replica:0/task:0/device:TPU:1, TPU, 0, 0)\n"
          ]
        },
        {
          "output_type": "stream",
          "name": "stdout",
          "text": [
            "INFO:tensorflow:*** Available Device: _DeviceAttributes(/job:worker/replica:0/task:0/device:TPU:2, TPU, 0, 0)\n"
          ]
        },
        {
          "output_type": "stream",
          "name": "stderr",
          "text": [
            "INFO:tensorflow:*** Available Device: _DeviceAttributes(/job:worker/replica:0/task:0/device:TPU:2, TPU, 0, 0)\n"
          ]
        },
        {
          "output_type": "stream",
          "name": "stdout",
          "text": [
            "INFO:tensorflow:*** Available Device: _DeviceAttributes(/job:worker/replica:0/task:0/device:TPU:3, TPU, 0, 0)\n"
          ]
        },
        {
          "output_type": "stream",
          "name": "stderr",
          "text": [
            "INFO:tensorflow:*** Available Device: _DeviceAttributes(/job:worker/replica:0/task:0/device:TPU:3, TPU, 0, 0)\n"
          ]
        },
        {
          "output_type": "stream",
          "name": "stdout",
          "text": [
            "INFO:tensorflow:*** Available Device: _DeviceAttributes(/job:worker/replica:0/task:0/device:TPU:4, TPU, 0, 0)\n"
          ]
        },
        {
          "output_type": "stream",
          "name": "stderr",
          "text": [
            "INFO:tensorflow:*** Available Device: _DeviceAttributes(/job:worker/replica:0/task:0/device:TPU:4, TPU, 0, 0)\n"
          ]
        },
        {
          "output_type": "stream",
          "name": "stdout",
          "text": [
            "INFO:tensorflow:*** Available Device: _DeviceAttributes(/job:worker/replica:0/task:0/device:TPU:5, TPU, 0, 0)\n"
          ]
        },
        {
          "output_type": "stream",
          "name": "stderr",
          "text": [
            "INFO:tensorflow:*** Available Device: _DeviceAttributes(/job:worker/replica:0/task:0/device:TPU:5, TPU, 0, 0)\n"
          ]
        },
        {
          "output_type": "stream",
          "name": "stdout",
          "text": [
            "INFO:tensorflow:*** Available Device: _DeviceAttributes(/job:worker/replica:0/task:0/device:TPU:6, TPU, 0, 0)\n"
          ]
        },
        {
          "output_type": "stream",
          "name": "stderr",
          "text": [
            "INFO:tensorflow:*** Available Device: _DeviceAttributes(/job:worker/replica:0/task:0/device:TPU:6, TPU, 0, 0)\n"
          ]
        },
        {
          "output_type": "stream",
          "name": "stdout",
          "text": [
            "INFO:tensorflow:*** Available Device: _DeviceAttributes(/job:worker/replica:0/task:0/device:TPU:7, TPU, 0, 0)\n"
          ]
        },
        {
          "output_type": "stream",
          "name": "stderr",
          "text": [
            "INFO:tensorflow:*** Available Device: _DeviceAttributes(/job:worker/replica:0/task:0/device:TPU:7, TPU, 0, 0)\n"
          ]
        },
        {
          "output_type": "stream",
          "name": "stdout",
          "text": [
            "INFO:tensorflow:*** Available Device: _DeviceAttributes(/job:worker/replica:0/task:0/device:TPU_SYSTEM:0, TPU_SYSTEM, 0, 0)\n"
          ]
        },
        {
          "output_type": "stream",
          "name": "stderr",
          "text": [
            "INFO:tensorflow:*** Available Device: _DeviceAttributes(/job:worker/replica:0/task:0/device:TPU_SYSTEM:0, TPU_SYSTEM, 0, 0)\n"
          ]
        },
        {
          "output_type": "stream",
          "name": "stdout",
          "text": [
            "INFO:tensorflow:*** Available Device: _DeviceAttributes(/job:worker/replica:0/task:0/device:XLA_CPU:0, XLA_CPU, 0, 0)\n"
          ]
        },
        {
          "output_type": "stream",
          "name": "stderr",
          "text": [
            "INFO:tensorflow:*** Available Device: _DeviceAttributes(/job:worker/replica:0/task:0/device:XLA_CPU:0, XLA_CPU, 0, 0)\n"
          ]
        }
      ]
    },
    {
      "cell_type": "code",
      "metadata": {
        "colab": {
          "base_uri": "https://localhost:8080/"
        },
        "id": "6qc9D3r-AusN",
        "outputId": "a6f20881-c334-4047-deb2-ccd371e4be2d"
      },
      "source": [
        "X.shape"
      ],
      "execution_count": 151,
      "outputs": [
        {
          "output_type": "execute_result",
          "data": {
            "text/plain": [
              "(2101736, 25, 1)"
            ]
          },
          "metadata": {},
          "execution_count": 151
        }
      ]
    },
    {
      "cell_type": "code",
      "metadata": {
        "id": "SHD2m53I8gjg"
      },
      "source": [
        "with strategy.scope():\n",
        "    model = keras.models.Sequential()\n",
        "    model.add(keras.layers.InputLayer(input_shape=(X.shape[1], X.shape[2])))\n",
        "    model.add(keras.layers.LSTM(750))\n",
        "    model.add(keras.layers.Dense(y.shape[1], activation='softmax'))\n",
        "    model.compile(loss='categorical_crossentropy', optimizer='rmsprop', metrics=['accuracy'])"
      ],
      "execution_count": 152,
      "outputs": []
    },
    {
      "cell_type": "code",
      "metadata": {
        "colab": {
          "base_uri": "https://localhost:8080/"
        },
        "id": "UP4YrFaSBXs6",
        "outputId": "de9a314c-0f8c-4617-978c-548cece6bb50"
      },
      "source": [
        "model.fit(X, y, epochs=100, batch_size=4096)"
      ],
      "execution_count": 153,
      "outputs": [
        {
          "output_type": "stream",
          "name": "stdout",
          "text": [
            "Epoch 1/100\n",
            "514/514 [==============================] - 34s 55ms/step - loss: 2.5244 - accuracy: 0.2695\n",
            "Epoch 2/100\n",
            "514/514 [==============================] - 27s 52ms/step - loss: 2.0748 - accuracy: 0.4039\n",
            "Epoch 3/100\n",
            "514/514 [==============================] - 27s 53ms/step - loss: 1.8668 - accuracy: 0.4651\n",
            "Epoch 4/100\n",
            "514/514 [==============================] - 27s 52ms/step - loss: 1.7449 - accuracy: 0.4986\n",
            "Epoch 5/100\n",
            "514/514 [==============================] - 27s 53ms/step - loss: 1.6618 - accuracy: 0.5215\n",
            "Epoch 6/100\n",
            "514/514 [==============================] - 27s 53ms/step - loss: 1.6005 - accuracy: 0.5383\n",
            "Epoch 7/100\n",
            "514/514 [==============================] - 27s 52ms/step - loss: 1.5519 - accuracy: 0.5509\n",
            "Epoch 8/100\n",
            "514/514 [==============================] - 27s 53ms/step - loss: 1.5112 - accuracy: 0.5619\n",
            "Epoch 9/100\n",
            "514/514 [==============================] - 27s 53ms/step - loss: 1.4760 - accuracy: 0.5711\n",
            "Epoch 10/100\n",
            "514/514 [==============================] - 27s 53ms/step - loss: 1.4449 - accuracy: 0.5794\n",
            "Epoch 11/100\n",
            "514/514 [==============================] - 27s 53ms/step - loss: 1.4165 - accuracy: 0.5869\n",
            "Epoch 12/100\n",
            "514/514 [==============================] - 27s 53ms/step - loss: 1.3904 - accuracy: 0.5939\n",
            "Epoch 13/100\n",
            "514/514 [==============================] - 27s 53ms/step - loss: 1.3661 - accuracy: 0.6005\n",
            "Epoch 14/100\n",
            "514/514 [==============================] - 27s 53ms/step - loss: 1.3434 - accuracy: 0.6063\n",
            "Epoch 15/100\n",
            "514/514 [==============================] - 27s 53ms/step - loss: 1.3219 - accuracy: 0.6123\n",
            "Epoch 16/100\n",
            "514/514 [==============================] - 27s 53ms/step - loss: 1.3015 - accuracy: 0.6177\n",
            "Epoch 17/100\n",
            "514/514 [==============================] - 27s 53ms/step - loss: 1.2817 - accuracy: 0.6229\n",
            "Epoch 18/100\n",
            "514/514 [==============================] - 27s 53ms/step - loss: 1.2632 - accuracy: 0.6281\n",
            "Epoch 19/100\n",
            "514/514 [==============================] - 27s 53ms/step - loss: 1.2448 - accuracy: 0.6329\n",
            "Epoch 20/100\n",
            "514/514 [==============================] - 27s 53ms/step - loss: 1.2270 - accuracy: 0.6375\n",
            "Epoch 21/100\n",
            "514/514 [==============================] - 27s 53ms/step - loss: 1.2104 - accuracy: 0.6420\n",
            "Epoch 22/100\n",
            "514/514 [==============================] - 27s 53ms/step - loss: 1.1938 - accuracy: 0.6466\n",
            "Epoch 23/100\n",
            "514/514 [==============================] - 28s 54ms/step - loss: 1.1777 - accuracy: 0.6510\n",
            "Epoch 24/100\n",
            "514/514 [==============================] - 27s 53ms/step - loss: 1.1623 - accuracy: 0.6550\n",
            "Epoch 25/100\n",
            "514/514 [==============================] - 28s 54ms/step - loss: 1.1474 - accuracy: 0.6594\n",
            "Epoch 26/100\n",
            "514/514 [==============================] - 28s 54ms/step - loss: 1.1324 - accuracy: 0.6630\n",
            "Epoch 27/100\n",
            "514/514 [==============================] - 28s 54ms/step - loss: 1.1185 - accuracy: 0.6673\n",
            "Epoch 28/100\n",
            "514/514 [==============================] - 28s 54ms/step - loss: 1.1049 - accuracy: 0.6706\n",
            "Epoch 29/100\n",
            "514/514 [==============================] - 28s 54ms/step - loss: 1.0917 - accuracy: 0.6743\n",
            "Epoch 30/100\n",
            "514/514 [==============================] - 27s 53ms/step - loss: 1.0789 - accuracy: 0.6780\n",
            "Epoch 31/100\n",
            "514/514 [==============================] - 28s 54ms/step - loss: 1.0667 - accuracy: 0.6811\n",
            "Epoch 32/100\n",
            "514/514 [==============================] - 27s 53ms/step - loss: 1.0547 - accuracy: 0.6848\n",
            "Epoch 33/100\n",
            "514/514 [==============================] - 28s 54ms/step - loss: 1.0434 - accuracy: 0.6877\n",
            "Epoch 34/100\n",
            "514/514 [==============================] - 28s 54ms/step - loss: 1.0328 - accuracy: 0.6906\n",
            "Epoch 35/100\n",
            "514/514 [==============================] - 27s 53ms/step - loss: 1.0216 - accuracy: 0.6935\n",
            "Epoch 36/100\n",
            "514/514 [==============================] - 27s 53ms/step - loss: 1.0109 - accuracy: 0.6966\n",
            "Epoch 37/100\n",
            "514/514 [==============================] - 28s 54ms/step - loss: 1.0011 - accuracy: 0.6994\n",
            "Epoch 38/100\n",
            "514/514 [==============================] - 27s 53ms/step - loss: 0.9918 - accuracy: 0.7020\n",
            "Epoch 39/100\n",
            "514/514 [==============================] - 28s 54ms/step - loss: 0.9828 - accuracy: 0.7045\n",
            "Epoch 40/100\n",
            "514/514 [==============================] - 27s 53ms/step - loss: 0.9733 - accuracy: 0.7072\n",
            "Epoch 41/100\n",
            "514/514 [==============================] - 27s 53ms/step - loss: 0.9644 - accuracy: 0.7096\n",
            "Epoch 42/100\n",
            "514/514 [==============================] - 27s 53ms/step - loss: 0.9566 - accuracy: 0.7118\n",
            "Epoch 43/100\n",
            "514/514 [==============================] - 27s 53ms/step - loss: 0.9491 - accuracy: 0.7138\n",
            "Epoch 44/100\n",
            "514/514 [==============================] - 27s 53ms/step - loss: 0.9421 - accuracy: 0.7156\n",
            "Epoch 45/100\n",
            "514/514 [==============================] - 27s 53ms/step - loss: 0.9343 - accuracy: 0.7178\n",
            "Epoch 46/100\n",
            "514/514 [==============================] - 27s 53ms/step - loss: 0.9276 - accuracy: 0.7193\n",
            "Epoch 47/100\n",
            "514/514 [==============================] - 27s 53ms/step - loss: 0.9206 - accuracy: 0.7215\n",
            "Epoch 48/100\n",
            "514/514 [==============================] - 28s 54ms/step - loss: 0.9143 - accuracy: 0.7231\n",
            "Epoch 49/100\n",
            "514/514 [==============================] - 27s 53ms/step - loss: 0.9085 - accuracy: 0.7247\n",
            "Epoch 50/100\n",
            "514/514 [==============================] - 27s 53ms/step - loss: 0.9023 - accuracy: 0.7263\n",
            "Epoch 51/100\n",
            "514/514 [==============================] - 27s 53ms/step - loss: 0.8968 - accuracy: 0.7278\n",
            "Epoch 52/100\n",
            "514/514 [==============================] - 27s 53ms/step - loss: 0.8911 - accuracy: 0.7295\n",
            "Epoch 53/100\n",
            "514/514 [==============================] - 27s 53ms/step - loss: 0.8861 - accuracy: 0.7309\n",
            "Epoch 54/100\n",
            "514/514 [==============================] - 27s 53ms/step - loss: 0.8809 - accuracy: 0.7321\n",
            "Epoch 55/100\n",
            "514/514 [==============================] - 27s 53ms/step - loss: 0.8758 - accuracy: 0.7337\n",
            "Epoch 56/100\n",
            "514/514 [==============================] - 28s 54ms/step - loss: 0.8709 - accuracy: 0.7347\n",
            "Epoch 57/100\n",
            "514/514 [==============================] - 28s 54ms/step - loss: 0.8669 - accuracy: 0.7355\n",
            "Epoch 58/100\n",
            "514/514 [==============================] - 28s 54ms/step - loss: 0.8619 - accuracy: 0.7374\n",
            "Epoch 59/100\n",
            "514/514 [==============================] - 27s 53ms/step - loss: 0.8583 - accuracy: 0.7383\n",
            "Epoch 60/100\n",
            "514/514 [==============================] - 28s 54ms/step - loss: 0.8547 - accuracy: 0.7390\n",
            "Epoch 61/100\n",
            "514/514 [==============================] - 27s 53ms/step - loss: 0.8498 - accuracy: 0.7405\n",
            "Epoch 62/100\n",
            "514/514 [==============================] - 28s 54ms/step - loss: 0.8465 - accuracy: 0.7413\n",
            "Epoch 63/100\n",
            "514/514 [==============================] - 27s 53ms/step - loss: 0.8422 - accuracy: 0.7424\n",
            "Epoch 64/100\n",
            "514/514 [==============================] - 28s 54ms/step - loss: 0.8392 - accuracy: 0.7433\n",
            "Epoch 65/100\n",
            "514/514 [==============================] - 28s 54ms/step - loss: 0.8351 - accuracy: 0.7442\n",
            "Epoch 66/100\n",
            "514/514 [==============================] - 28s 54ms/step - loss: 0.8320 - accuracy: 0.7453\n",
            "Epoch 67/100\n",
            "514/514 [==============================] - 28s 54ms/step - loss: 0.8286 - accuracy: 0.7460\n",
            "Epoch 68/100\n",
            "514/514 [==============================] - 28s 54ms/step - loss: 0.8259 - accuracy: 0.7465\n",
            "Epoch 69/100\n",
            "514/514 [==============================] - 28s 54ms/step - loss: 0.8233 - accuracy: 0.7474\n",
            "Epoch 70/100\n",
            "514/514 [==============================] - 27s 53ms/step - loss: 0.8201 - accuracy: 0.7484\n",
            "Epoch 71/100\n",
            "514/514 [==============================] - 28s 55ms/step - loss: 0.8170 - accuracy: 0.7491\n",
            "Epoch 72/100\n",
            "514/514 [==============================] - 27s 53ms/step - loss: 0.8150 - accuracy: 0.7497\n",
            "Epoch 73/100\n",
            "514/514 [==============================] - 28s 54ms/step - loss: 0.8119 - accuracy: 0.7505\n",
            "Epoch 74/100\n",
            "514/514 [==============================] - 28s 54ms/step - loss: 0.8094 - accuracy: 0.7512\n",
            "Epoch 75/100\n",
            "514/514 [==============================] - 27s 53ms/step - loss: 0.8066 - accuracy: 0.7519\n",
            "Epoch 76/100\n",
            "514/514 [==============================] - 28s 54ms/step - loss: 0.8038 - accuracy: 0.7525\n",
            "Epoch 77/100\n",
            "514/514 [==============================] - 28s 54ms/step - loss: 0.8023 - accuracy: 0.7530\n",
            "Epoch 78/100\n",
            "514/514 [==============================] - 28s 54ms/step - loss: 0.7995 - accuracy: 0.7539\n",
            "Epoch 79/100\n",
            "514/514 [==============================] - 27s 53ms/step - loss: 0.7982 - accuracy: 0.7544\n",
            "Epoch 80/100\n",
            "514/514 [==============================] - 28s 54ms/step - loss: 0.7956 - accuracy: 0.7545\n",
            "Epoch 81/100\n",
            "514/514 [==============================] - 28s 54ms/step - loss: 0.7927 - accuracy: 0.7557\n",
            "Epoch 82/100\n",
            "514/514 [==============================] - 28s 55ms/step - loss: 0.7913 - accuracy: 0.7558\n",
            "Epoch 83/100\n",
            "514/514 [==============================] - 28s 54ms/step - loss: 0.7887 - accuracy: 0.7562\n",
            "Epoch 84/100\n",
            "514/514 [==============================] - 27s 53ms/step - loss: 0.7872 - accuracy: 0.7566\n",
            "Epoch 85/100\n",
            "514/514 [==============================] - 27s 53ms/step - loss: 0.7853 - accuracy: 0.7574\n",
            "Epoch 86/100\n",
            "514/514 [==============================] - 27s 53ms/step - loss: 0.7821 - accuracy: 0.7582\n",
            "Epoch 87/100\n",
            "514/514 [==============================] - 28s 54ms/step - loss: 0.7814 - accuracy: 0.7581\n",
            "Epoch 88/100\n",
            "514/514 [==============================] - 28s 54ms/step - loss: 0.7791 - accuracy: 0.7589\n",
            "Epoch 89/100\n",
            "514/514 [==============================] - 28s 54ms/step - loss: 0.7774 - accuracy: 0.7592\n",
            "Epoch 90/100\n",
            "514/514 [==============================] - 28s 54ms/step - loss: 0.7757 - accuracy: 0.7597\n",
            "Epoch 91/100\n",
            "514/514 [==============================] - 28s 54ms/step - loss: 0.7741 - accuracy: 0.7604\n",
            "Epoch 92/100\n",
            "514/514 [==============================] - 27s 53ms/step - loss: 0.7715 - accuracy: 0.7610\n",
            "Epoch 93/100\n",
            "514/514 [==============================] - 28s 54ms/step - loss: 0.7705 - accuracy: 0.7609\n",
            "Epoch 94/100\n",
            "514/514 [==============================] - 27s 53ms/step - loss: 0.7692 - accuracy: 0.7617\n",
            "Epoch 95/100\n",
            "514/514 [==============================] - 27s 53ms/step - loss: 0.7667 - accuracy: 0.7620\n",
            "Epoch 96/100\n",
            "514/514 [==============================] - 27s 53ms/step - loss: 0.7658 - accuracy: 0.7623\n",
            "Epoch 97/100\n",
            "514/514 [==============================] - 28s 54ms/step - loss: 0.7647 - accuracy: 0.7628\n",
            "Epoch 98/100\n",
            "514/514 [==============================] - 27s 53ms/step - loss: 0.7625 - accuracy: 0.7631\n",
            "Epoch 99/100\n",
            "514/514 [==============================] - 28s 54ms/step - loss: 0.7620 - accuracy: 0.7633\n",
            "Epoch 100/100\n",
            "514/514 [==============================] - 28s 54ms/step - loss: 0.7595 - accuracy: 0.7640\n"
          ]
        },
        {
          "output_type": "execute_result",
          "data": {
            "text/plain": [
              "<keras.callbacks.History at 0x7f9529659410>"
            ]
          },
          "metadata": {},
          "execution_count": 153
        }
      ]
    },
    {
      "cell_type": "code",
      "metadata": {
        "id": "lBs9AIvKBaNK"
      },
      "source": [
        "model.save('/content/generador_final___len25.h5')"
      ],
      "execution_count": 154,
      "outputs": []
    },
    {
      "cell_type": "code",
      "metadata": {
        "colab": {
          "base_uri": "https://localhost:8080/"
        },
        "id": "Vcjug5J3rm9A",
        "outputId": "a3198bec-8ff0-41a2-9830-d3d65a915f09"
      },
      "source": [
        "chars"
      ],
      "execution_count": 139,
      "outputs": [
        {
          "output_type": "execute_result",
          "data": {
            "text/plain": [
              "[' ',\n",
              " '1',\n",
              " '9',\n",
              " 'a',\n",
              " 'b',\n",
              " 'c',\n",
              " 'd',\n",
              " 'e',\n",
              " 'f',\n",
              " 'g',\n",
              " 'h',\n",
              " 'i',\n",
              " 'j',\n",
              " 'k',\n",
              " 'l',\n",
              " 'm',\n",
              " 'n',\n",
              " 'o',\n",
              " 'p',\n",
              " 'q',\n",
              " 'r',\n",
              " 's',\n",
              " 't',\n",
              " 'u',\n",
              " 'v',\n",
              " 'w',\n",
              " 'x',\n",
              " 'y',\n",
              " 'z']"
            ]
          },
          "metadata": {},
          "execution_count": 139
        }
      ]
    },
    {
      "cell_type": "code",
      "metadata": {
        "id": "QHIZpgtReEGF"
      },
      "source": [
        ""
      ],
      "execution_count": null,
      "outputs": []
    }
  ]
}