{
 "cells": [
  {
   "cell_type": "code",
   "metadata": {
    "tags": [],
    "cell_id": "00000-1c4f85ea-abc0-4f9b-84fd-6ea56311ba3e",
    "deepnote_to_be_reexecuted": false,
    "source_hash": "a2a14f",
    "execution_start": 1638480454866,
    "execution_millis": 5419,
    "deepnote_cell_type": "code"
   },
   "source": "import pandas as pd\nimport numpy as np\nimport tensorflow as tf\nimport io\nimport re",
   "outputs": [],
   "execution_count": null
  },
  {
   "cell_type": "markdown",
   "source": "### Loading and _cleaning_ of the non-toxic tweets",
   "metadata": {
    "tags": [],
    "cell_id": "00001-e3466362-c409-49ae-b7f1-5a981625111e",
    "deepnote_cell_type": "markdown"
   }
  },
  {
   "cell_type": "code",
   "metadata": {
    "tags": [],
    "cell_id": "00003-4555dd05-3d32-46d3-99df-227109c99c1c",
    "deepnote_to_be_reexecuted": false,
    "source_hash": "daca8940",
    "execution_start": 1638485173281,
    "execution_millis": 757,
    "deepnote_cell_type": "code"
   },
   "source": "path_to_txt = '/datasets/toxic-dataset/non_toxic_tweets.txt'\n\nwith io.open(path_to_txt, encoding='utf-8') as f:\n    text = f.read().lower()\nprint('corpus length:', len(text))\n\n# removing non alphabetic characters, keeping the \\n\nclean_text = re.sub(r'[^A-Za-z19 \\n]+', '', text)\n\n# unique characters\nchars = sorted(list(set(clean_text)))\nprint('total chars:', len(chars))\n\n# to make the conversion\nchar_to_indices = dict((c, i) for i, c in enumerate(chars))\nindices_to_char = dict((i, c) for i, c in enumerate(chars))",
   "outputs": [
    {
     "name": "stdout",
     "text": "corpus length: 6706043\ntotal chars: 30\n",
     "output_type": "stream"
    }
   ],
   "execution_count": null
  },
  {
   "cell_type": "code",
   "source": "clean_text[0]",
   "metadata": {
    "tags": [],
    "cell_id": "00003-11172035-26ed-4b41-9b23-d0fcbfd5d34a",
    "deepnote_to_be_reexecuted": false,
    "source_hash": "eec34095",
    "execution_start": 1638485174037,
    "execution_millis": 15,
    "deepnote_output_heights": [
     20.5
    ],
    "deepnote_cell_type": "code"
   },
   "outputs": [
    {
     "output_type": "execute_result",
     "execution_count": 39,
     "data": {
      "text/plain": "'c'"
     },
     "metadata": {}
    }
   ],
   "execution_count": null
  },
  {
   "cell_type": "code",
   "source": "# cut the text in semi-redundant sequences of maxlen characters\nMAXLEN = 30\nWINDOWS_STEP = 3\nADDITIONAL_CHARS = 1\nsentences = []\nnext_chars = []\n\n# sentences will act as 'X' and next_chars 'y'\n# so it will be like this\n# ...clean tex | t\n# ...the sente | c\n# ...from covi | d\n# etc etc etc\n\nfor i in range(0, len(clean_text) - MAXLEN, WINDOWS_STEP):\n    sentences.append(clean_text[i: i + MAXLEN])\n    next_chars.append(clean_text[i + MAXLEN: i + MAXLEN + ADDITIONAL_CHARS])\nprint('nb sequences:', len(sentences))",
   "metadata": {
    "tags": [],
    "cell_id": "00009-bf6d953a-60dd-4771-acef-d90b6c15f03e",
    "deepnote_to_be_reexecuted": false,
    "source_hash": "2a8dfb19",
    "execution_start": 1638485174898,
    "execution_millis": 1845,
    "deepnote_output_heights": [
     520.5
    ],
    "deepnote_cell_type": "code"
   },
   "outputs": [
    {
     "name": "stdout",
     "text": "nb sequences: 2111668\n",
     "output_type": "stream"
    }
   ],
   "execution_count": null
  },
  {
   "cell_type": "code",
   "source": "sentences[99]",
   "metadata": {
    "tags": [],
    "cell_id": "00005-76d70d69-e747-4491-bf9d-8c8fe93f91c0",
    "deepnote_to_be_reexecuted": false,
    "source_hash": "dceddbb7",
    "execution_start": 1638485177300,
    "execution_millis": 4424050,
    "deepnote_output_heights": [
     20.5
    ],
    "deepnote_cell_type": "code"
   },
   "outputs": [
    {
     "output_type": "execute_result",
     "execution_count": 41,
     "data": {
      "text/plain": "'was the son of god changed fro'"
     },
     "metadata": {}
    }
   ],
   "execution_count": null
  },
  {
   "cell_type": "code",
   "source": "next_chars[99]",
   "metadata": {
    "tags": [],
    "cell_id": "00006-36cddcaa-0708-4c4e-ad7a-93fb3fc2462b",
    "deepnote_to_be_reexecuted": false,
    "source_hash": "f4faaef4",
    "execution_start": 1638485181084,
    "execution_millis": 5,
    "deepnote_output_heights": [
     20.5
    ],
    "deepnote_cell_type": "code"
   },
   "outputs": [
    {
     "output_type": "execute_result",
     "execution_count": 42,
     "data": {
      "text/plain": "'m'"
     },
     "metadata": {}
    }
   ],
   "execution_count": null
  },
  {
   "cell_type": "code",
   "source": "def convert_string_to_int(string):\n    ''''\n    This functions receives a single string and return a numpy array of all \n    its characters converted to integers.\n    '''\n    list_of_ints = [char_to_indices[ch] for ch in string]\n    return np.array(list_of_ints)\n\ndef convert_int_to_string(list_of_ints):\n    ''''\n    This functions recives a single array and returns a string\n    where all its letters were converted from integers.\n    '''\n    string = ''.join([indices_to_char[integ] for  integ in list_of_ints])\n    return string\n",
   "metadata": {
    "tags": [],
    "cell_id": "00013-4286e4bb-fa9a-49b2-ba50-8476b0e78170",
    "deepnote_to_be_reexecuted": false,
    "source_hash": "d8b95ce2",
    "execution_start": 1638485183795,
    "execution_millis": 0,
    "deepnote_cell_type": "code"
   },
   "outputs": [],
   "execution_count": null
  },
  {
   "cell_type": "code",
   "source": "# this one-hot encodes the sentences, which is not ideal bc of the resources it consumes\n# X = np.zeros((len(sentences), MAXLEN, len(chars)), dtype=np.bool)\n# y = np.zeros((len(sentences), len(chars)), dtype=np.bool)\n# for i, sentence in enumerate(sentences):\n#     for t, char in enumerate(sentence):\n#         X[i, t, char_to_indices[char]] = 1\n#     y[i, char_to_indices[next_chars[i]]] = 1\n\nX = [convert_string_to_int(stri) for stri in sentences]",
   "metadata": {
    "tags": [],
    "cell_id": "00010-d1847633-3ea0-4dfb-95b2-b77a4f2ac509",
    "deepnote_to_be_reexecuted": false,
    "source_hash": "ab204f5d",
    "execution_start": 1638485196768,
    "execution_millis": 390,
    "deepnote_cell_type": "code"
   },
   "outputs": [
    {
     "output_type": "error",
     "ename": "KernelInterrupted",
     "evalue": "Execution interrupted by the Jupyter kernel.",
     "traceback": [
      "\u001b[0;31m---------------------------------------------------------------------------\u001b[0m",
      "\u001b[0;31mKernelInterrupted\u001b[0m: Execution interrupted by the Jupyter kernel."
     ]
    }
   ],
   "execution_count": null
  },
  {
   "cell_type": "code",
   "source": "sentences_vect = np.array(sentences_char)",
   "metadata": {
    "tags": [],
    "cell_id": "00008-598f2fa7-7b29-4625-b96f-20c9ed001d5e",
    "deepnote_to_be_reexecuted": false,
    "source_hash": "cb2f9520",
    "execution_start": 1638480801688,
    "execution_millis": 4,
    "deepnote_output_heights": [
     131.625
    ],
    "deepnote_cell_type": "code"
   },
   "outputs": [],
   "execution_count": null
  },
  {
   "cell_type": "code",
   "source": "lalayer = tf.keras.layers.StringLookup(vocabulary=chars)\nsentenciado = lalayer(sentences)",
   "metadata": {
    "tags": [],
    "cell_id": "00008-e834d0af-d845-4c89-b505-db73075c8f74",
    "deepnote_to_be_reexecuted": false,
    "source_hash": "e49efea8",
    "execution_start": 1638480605809,
    "execution_millis": 9052,
    "deepnote_output_heights": [
     20.5
    ],
    "deepnote_cell_type": "code"
   },
   "outputs": [],
   "execution_count": null
  },
  {
   "cell_type": "code",
   "source": "sentenciado[0:10]",
   "metadata": {
    "tags": [],
    "cell_id": "00010-0150015e-d9d0-48b3-8102-bb7d3ab59534",
    "deepnote_to_be_reexecuted": false,
    "source_hash": "6f0523a5",
    "execution_start": 1638480634511,
    "execution_millis": 8,
    "deepnote_output_heights": [
     20.5
    ],
    "deepnote_cell_type": "code"
   },
   "outputs": [
    {
     "output_type": "execute_result",
     "execution_count": 17,
     "data": {
      "text/plain": "<tf.Tensor: shape=(10,), dtype=int64, numpy=array([0, 0, 0, 0, 0, 0, 0, 0, 0, 0])>"
     },
     "metadata": {}
    }
   ],
   "execution_count": null
  },
  {
   "cell_type": "code",
   "source": "tweet_prueba = 'el covichito es malo y te odio y odio a todo el mundo y esto es un tweet tóxito'",
   "metadata": {
    "tags": [],
    "cell_id": "00011-8a4df583-28f5-41d1-b72b-b0e3fc64c741",
    "deepnote_to_be_reexecuted": false,
    "source_hash": "d89f3016",
    "execution_start": 1638480833009,
    "execution_millis": 1,
    "deepnote_cell_type": "code"
   },
   "outputs": [],
   "execution_count": null
  },
  {
   "cell_type": "code",
   "source": "tweet_prueba[:30]",
   "metadata": {
    "tags": [],
    "cell_id": "00012-b363ba59-be67-4a89-867a-ae86f34ebca9",
    "deepnote_to_be_reexecuted": false,
    "source_hash": "f0e4bc67",
    "execution_start": 1638481045221,
    "execution_millis": 52,
    "deepnote_output_heights": [
     20.5
    ],
    "deepnote_cell_type": "code"
   },
   "outputs": [
    {
     "output_type": "execute_result",
     "execution_count": 30,
     "data": {
      "text/plain": "'el covichito es malo y te odio'"
     },
     "metadata": {}
    }
   ],
   "execution_count": null
  },
  {
   "cell_type": "code",
   "source": "print(char_to_indices)",
   "metadata": {
    "tags": [],
    "cell_id": "00013-5e47c9f8-4079-4294-ac45-7a888c0922c7",
    "deepnote_to_be_reexecuted": false,
    "source_hash": "1ed23de",
    "execution_start": 1638481050955,
    "execution_millis": 8,
    "deepnote_cell_type": "code"
   },
   "outputs": [
    {
     "name": "stdout",
     "text": "{'\\n': 0, ' ': 1, '1': 2, '9': 3, 'a': 4, 'b': 5, 'c': 6, 'd': 7, 'e': 8, 'f': 9, 'g': 10, 'h': 11, 'i': 12, 'j': 13, 'k': 14, 'l': 15, 'm': 16, 'n': 17, 'o': 18, 'p': 19, 'q': 20, 'r': 21, 's': 22, 't': 23, 'u': 24, 'v': 25, 'w': 26, 'x': 27, 'y': 28, 'z': 29}\n",
     "output_type": "stream"
    }
   ],
   "execution_count": null
  },
  {
   "cell_type": "code",
   "source": "# convert_int_to_string(convertio)",
   "metadata": {
    "tags": [],
    "cell_id": "00015-78edf0f9-adff-481a-9c4a-a6bd2e0d87af",
    "deepnote_to_be_reexecuted": false,
    "source_hash": "fc4fef65",
    "execution_start": 1638481176095,
    "execution_millis": 2,
    "deepnote_output_heights": [
     20.5
    ],
    "deepnote_cell_type": "code"
   },
   "outputs": [],
   "execution_count": null
  },
  {
   "cell_type": "code",
   "source": "",
   "metadata": {
    "tags": [],
    "cell_id": "00015-aafa5a53-d93d-4ef9-80df-2e3541a3a0bf",
    "deepnote_cell_type": "code"
   },
   "outputs": [],
   "execution_count": null
  },
  {
   "cell_type": "markdown",
   "source": "<a style='text-decoration:none;line-height:16px;display:flex;color:#5B5B62;padding:10px;justify-content:end;' href='https://deepnote.com?utm_source=created-in-deepnote-cell&projectId=a1e7defd-57f6-4a69-933f-51f8c5c266bb' target=\"_blank\">\n<img alt='Created in deepnote.com' style='display:inline;max-height:16px;margin:0px;margin-right:7.5px;' src='data:image/svg+xml;base64,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' > </img>\nCreated in <span style='font-weight:600;margin-left:4px;'>Deepnote</span></a>",
   "metadata": {
    "tags": [],
    "created_in_deepnote_cell": true,
    "deepnote_cell_type": "markdown"
   }
  }
 ],
 "nbformat": 4,
 "nbformat_minor": 2,
 "metadata": {
  "orig_nbformat": 2,
  "deepnote": {
   "is_reactive": false
  },
  "deepnote_notebook_id": "7e7cb7be-b813-42b0-9f47-49a3c559b5b0",
  "deepnote_execution_queue": []
 }
}